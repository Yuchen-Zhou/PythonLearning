{
 "cells": [
  {
   "cell_type": "markdown",
   "metadata": {},
   "source": [
    "# NumPy  Tutorial\n",
    "NumPy(Numerical Python)是Python语言的一个扩展程序，支持大量的维度数组与矩阵运算，此外也针对数组运算提供大量的数学函数库。  \n",
    "NumPy是一个运行速度非常快的数学库，主要用于数组计算，包含：\n",
    "- 一个强大的N维数组对象ndarray\n",
    "- 广播功能函数\n",
    "- 整合C/C++/Fortran代码的工具\n",
    "- 线性代数、傅立叶变换、随机数生成等"
   ]
  },
  {
   "cell_type": "code",
   "execution_count": null,
   "metadata": {},
   "outputs": [],
   "source": [
    "#如果你没有安装NumPy，运行下面这行代码\n",
    "!pip install numpy"
   ]
  },
  {
   "cell_type": "markdown",
   "metadata": {},
   "source": [
    "## NumPy Ndarray对象\n",
    "NumPy最重要的一个特点是其N维数组对象ndarray，它是一系列同类型数据的集合，以0下标为开始进行集合中元素的索引。  \n",
    "ndarray对象是用于存放同类型元素的多维数组。  \n",
    "ndarray中的每个元素在内存中都有相同存储大小的区域。  \n",
    "ndarray内部由以下内容组成：\n",
    "- 一个指向数据（内存或内存映射文件中的一块数据）的指针。\n",
    "- 数据类型或dtype，描述在数组中的固定大小值的格子。 \n",
    "- 一个表示数组形状（shape）的元组，表示各维度大小的元组。 \n",
    "- 一个跨度元组（stride），其中的整数指的是为了前进到当前维度下一个元素需要“跨过”的字节数\n",
    "\n",
    "\n",
    "跨度可以时负数，这样会使数组在内存中向后移动，切片中`obj[::-1]`或`obj[:,::-1]`就是如此。  \n",
    "创建一个ndarray只需要调用NumPy的array函数即可：\n",
    "```python\n",
    "numpy.array(object, dtype=None, copy=True, order=None, subok=False, ndmin=0)\n",
    "```\n",
    "\n",
    "参数说明\n",
    "\n",
    "|名称|描述|\n",
    "|---|---|\n",
    "|object|数组或嵌套的数列|\n",
    "|dtype|数组元素的数据类型，可选|\n",
    "|copy|对象是否需要复制，可选|\n",
    "|order|创建数组的样式，C为行方向，F为列方向，A为任意方向（默认）|\n",
    "|subok|默认返回一个与基类类型一致的数组|\n",
    "|ndmin|指定生成数组的最小维度|"
   ]
  },
  {
   "cell_type": "code",
   "execution_count": 1,
   "metadata": {},
   "outputs": [
    {
     "name": "stdout",
     "output_type": "stream",
     "text": [
      "[1 2 3]\n"
     ]
    }
   ],
   "source": [
    "#实例1\n",
    "a = np.array([1, 2, 3])\n",
    "print(a)"
   ]
  },
  {
   "cell_type": "code",
   "execution_count": 2,
   "metadata": {},
   "outputs": [
    {
     "name": "stdout",
     "output_type": "stream",
     "text": [
      "[[1 2]\n",
      " [3 4]]\n"
     ]
    }
   ],
   "source": [
    "#实例2\n",
    "a = np.array([[1, 2], [3, 4]])\n",
    "print(a)"
   ]
  },
  {
   "cell_type": "code",
   "execution_count": 4,
   "metadata": {},
   "outputs": [
    {
     "name": "stdout",
     "output_type": "stream",
     "text": [
      "[[1 2 3 4 5]]\n"
     ]
    }
   ],
   "source": [
    "#实例3\n",
    "a = np.array([1, 2, 3, 4, 5], ndmin=2)\n",
    "print(a)"
   ]
  },
  {
   "cell_type": "code",
   "execution_count": 5,
   "metadata": {},
   "outputs": [
    {
     "name": "stdout",
     "output_type": "stream",
     "text": [
      "[1.+0.j 2.+0.j 3.+0.j]\n"
     ]
    }
   ],
   "source": [
    "#实例4 \n",
    "a = np.array([1, 2, 3], dtype=complex)\n",
    "print(a)"
   ]
  },
  {
   "cell_type": "markdown",
   "metadata": {},
   "source": [
    "ndarray对象由计算机内存的连续一维部分组成，并结合索引模式，将每个元素映射到内存块中的每一个位置。"
   ]
  },
  {
   "cell_type": "markdown",
   "metadata": {},
   "source": [
    "## NumPy数据类型\n",
    "NumPy支持的数据类型比Python内置的类型多很多，基本和C语言齐平。\n",
    "\n",
    "|名称|描述|\n",
    "|--|--|\n",
    "|bool_|布尔类型数据类型|\n",
    "|int_|默认的整数类型|\n",
    "|intc|与C的int类型一样，一般是int32或int64|\n",
    "|intp|用于索引的整数类型|\n",
    "|int8|字节(-128 to 127)|\n",
    "|int16|整数(-32768 to 32767)|\n",
    "|int32|整数（-2147483648 to 2147483647）|\n",
    "|int64|整数（-9223372036854775808 to 9223372036854775807）|\n",
    "|uint8|无符号整数（0 to 255）|\n",
    "|uint16|无符号整数（0 to 65535）|\n",
    "|uint32|无符号整数（0 to 4294967295）|\n",
    "|uint64|无符号整数（0 to 18446744073709551615）|\n",
    "|float_|float64 类型的简写|\n",
    "|float16|半精度浮点数，包括：1 个符号位，5 个指数位，10 个尾数位|\n",
    "|float32|单精度浮点数，包括：1 个符号位，8 个指数位，23 个尾数位|\n",
    "|float64|双精度浮点数，包括：1 个符号位，11 个指数位，52 个尾数位|\n",
    "|complex_|complex128 类型的简写，即 128 位复数|\n",
    "|complex64|复数，表示双 32 位浮点数（实数部分和虚数部分）|\n",
    "|complex128|复数，表示双 64 位浮点数（实数部分和虚数部分）|\n",
    "numpy 的数值类型实际上是 dtype 对象的实例，并对应唯一的字符，包括 np.bool_，np.int32，np.float32，等等。\n",
    "\n",
    "**数据类型对象(dtype)**\n",
    "数据类型对象(numpy.dtype类的实例)用来描述与数组对应的内存区域是如何使用，它描述了数据的以下几个方面：\n",
    "- 数据的类型（整数，浮点数或者Python对象）\n",
    "- 数据的大小\n",
    "- 数据的字节顺序（小端法或大端法）\n",
    "- 在结构化类型的情况下，字段的名称、每个字段的数据类型和每个字段所取得的内存块的部分\n",
    "- 如果数据结构是子数组，那么它的形状和数据类型是什么\n",
    "\n",
    "字节顺序是通过对数据类型预先设定`<`或`>`来决定的。`<`意味着小端法（最小值存储在最小的地址、即低位组放在最前面）。`>`意味着大端法（最重要的字节存储在最小的地址、即高位组放在最前面）。\n",
    "\n",
    "```python\n",
    "numpy.dtype(object, align, copy)\n",
    "```\n",
    "- object - 要转换的数据类型对象\n",
    "- align - 如果为true，填充字段使其类似C的结构体\n",
    "- copy - 复制dtype对象，如果为false，则是对内置数据类型对象的引用\n"
   ]
  },
  {
   "cell_type": "code",
   "execution_count": 1,
   "metadata": {},
   "outputs": [
    {
     "name": "stdout",
     "output_type": "stream",
     "text": [
      "int32\n"
     ]
    }
   ],
   "source": [
    "#实例1\n",
    "import numpy as np\n",
    "#使用标量类型\n",
    "dt = np.dtype(np.int32)\n",
    "print(dt)"
   ]
  },
  {
   "cell_type": "code",
   "execution_count": 2,
   "metadata": {},
   "outputs": [
    {
     "name": "stdout",
     "output_type": "stream",
     "text": [
      "int32\n"
     ]
    }
   ],
   "source": [
    "#实例2\n",
    "dt = np.dtype('i4')\n",
    "print(dt)"
   ]
  },
  {
   "cell_type": "code",
   "execution_count": 3,
   "metadata": {},
   "outputs": [
    {
     "name": "stdout",
     "output_type": "stream",
     "text": [
      "int32\n"
     ]
    }
   ],
   "source": [
    "#实例3\n",
    "dt = np.dtype('<i4')\n",
    "print(dt)"
   ]
  },
  {
   "cell_type": "code",
   "execution_count": 6,
   "metadata": {},
   "outputs": [
    {
     "name": "stdout",
     "output_type": "stream",
     "text": [
      "[('age', 'i1')]\n"
     ]
    }
   ],
   "source": [
    "#实例4\n",
    "#展示结构化数据类型\n",
    "import numpy as np\n",
    "dt = np.dtype([('age',np.int8)])\n",
    "print(dt)"
   ]
  },
  {
   "cell_type": "code",
   "execution_count": 7,
   "metadata": {},
   "outputs": [
    {
     "name": "stdout",
     "output_type": "stream",
     "text": [
      "[(10,) (20,) (30,)]\n"
     ]
    }
   ],
   "source": [
    "#实例5\n",
    "#将数据类型应用ndarray对象\n",
    "dt = np.dtype([('age', np.int8)])\n",
    "a = np.array([(10,), (20,), (30,)], dtype = dt)\n",
    "print(a)"
   ]
  },
  {
   "cell_type": "code",
   "execution_count": 9,
   "metadata": {},
   "outputs": [
    {
     "name": "stdout",
     "output_type": "stream",
     "text": [
      "[10 20 30]\n"
     ]
    }
   ],
   "source": [
    "#实例6\n",
    "#类型字段名可以用于存取实际的age列\n",
    "import numpy as np\n",
    "dt = np.dtype([('age', np.int8)])\n",
    "a = np.array([(10,), (20,), (30,)], dtype=dt)\n",
    "print(a['age'])"
   ]
  },
  {
   "cell_type": "code",
   "execution_count": 10,
   "metadata": {},
   "outputs": [
    {
     "name": "stdout",
     "output_type": "stream",
     "text": [
      "[(b'abc', 21, 50.) (b'xyz', 18, 75.)]\n"
     ]
    }
   ],
   "source": [
    "#实例7\n",
    "import numpy as np\n",
    "student = np.dtype([('name', 'S20'), ('age', 'i1'), ('markd', 'f4')])\n",
    "a = np.array([('abc', 21, 50), ('xyz', 18, 75)], dtype=student)\n",
    "print(a)"
   ]
  },
  {
   "cell_type": "markdown",
   "metadata": {},
   "source": [
    "每个内建类型都有一个唯一定义它的字符代码，如下\n",
    "\n",
    "|字符|对应类型|\n",
    "|--|--|\n",
    "|b|布尔型|\n",
    "|i|(有符号) 整型|\n",
    "|u|无符号整型 integer|\n",
    "|f|浮点型|\n",
    "|c|复数浮点型|\n",
    "|m|timedelta（时间间隔）|\n",
    "|M|datetime（日期时间）|\n",
    "|O|(Python) 对象|\n",
    "|S, a|(byte-)字符串|\n",
    "|U|Unicode|\n",
    "|V|原始数据 (void)|\n"
   ]
  },
  {
   "cell_type": "markdown",
   "metadata": {},
   "source": [
    "## NumPy数组属性\n",
    " NumPy数组的维数称为秩(rank)，秩就是轴的数量， 即数组的维数，一维数组的秩为1，二维数组的秩为2，以此类推。在NumPy中，每一个线性的数组称为是一个轴(axis)，也就是维数(dimensions)。比如说，二维数组相当于是两个一个维数组，其中第一个一维数组中每个元素又是一个一维数组。所以一维数组就是NumPy中的轴(axis)，第一个轴相当于是底层数组，第二个轴是底层数组里的数组。而轴的数量———秩，就是数组的维数。\n",
    "\n",
    " 很多时候可以声明axis。axis=0，表示沿着第0轴进行操作，即对每一列进行操作；axis=1，表示沿着第1轴进行操作，即对每一行进行操作。\n",
    "\n",
    " NumPy的数组中比较重要ndarray对象属性有：\n",
    "|属性|说明|\n",
    "|--|--|\n",
    "|ndarray.ndim|秩，即轴的数量或维度的数量|\n",
    "|ndarray.shape|数组的维度，对于矩阵，n 行 m 列|\n",
    "|ndarray.size|数组元素的总个数，相当于 .shape 中 n*m 的值|\n",
    "|ndarray.dtype|ndarray 对象的元素类型|\n",
    "|ndarray.itemsize|ndarray 对象中每个元素的大小，以字节为单位|\n",
    "|ndarray.flags|ndarray 对象的内存信息|\n",
    "|ndarray.real|ndarray元素的实部|\n",
    "|ndarray.imag|ndarray 元素的虚部|\n",
    "|ndarray.data|包含实际数组元素的缓冲区，由于一般通过数组的索引获取元素，所以通常不需要使用这个属性。|\n",
    "\n",
    "\n",
    "\n",
    "\n",
    "\n",
    "**ndarray.ndim**  \n",
    "ndarray.ndim用于返回数组的维数，等于秩"
   ]
  },
  {
   "cell_type": "code",
   "execution_count": 12,
   "metadata": {},
   "outputs": [
    {
     "name": "stdout",
     "output_type": "stream",
     "text": [
      "1\n",
      "3\n"
     ]
    }
   ],
   "source": [
    "import numpy as np\n",
    "a = np.arange(24)\n",
    "print(a.ndim)\n",
    "#现在调整其大小\n",
    "b = a.reshape(2, 4, 3)\n",
    "print(b.ndim)"
   ]
  },
  {
   "cell_type": "markdown",
   "metadata": {},
   "source": [
    "**ndarray.shape**  \n",
    "ndarray.shape表示数组的维度，返回一个元组，这个元组的长度就是维度的数目，即ndim属性（秩）。"
   ]
  },
  {
   "cell_type": "code",
   "execution_count": 14,
   "metadata": {},
   "outputs": [
    {
     "name": "stdout",
     "output_type": "stream",
     "text": [
      "(2, 3)\n"
     ]
    }
   ],
   "source": [
    "a = np.array([[1, 2, 3], [4, 5, 6]])\n",
    "print(a.shape)"
   ]
  },
  {
   "cell_type": "code",
   "execution_count": 15,
   "metadata": {},
   "outputs": [
    {
     "name": "stdout",
     "output_type": "stream",
     "text": [
      "[[1 2]\n",
      " [3 4]\n",
      " [5 6]]\n"
     ]
    }
   ],
   "source": [
    "#调整数组大小\n",
    "a = np.array([[1, 2, 3], [4, 5, 6]])\n",
    "a.shape = (3, 2)\n",
    "print(a)"
   ]
  },
  {
   "cell_type": "code",
   "execution_count": 16,
   "metadata": {},
   "outputs": [
    {
     "name": "stdout",
     "output_type": "stream",
     "text": [
      "[[1 2]\n",
      " [3 4]\n",
      " [5 6]]\n"
     ]
    }
   ],
   "source": [
    "#NumPy也提供了reshape函数来调整数组大小\n",
    "a = np.array([[1, 2, 3], [4, 5, 6]])\n",
    "b = a.reshape(3, 2)\n",
    "print(b)"
   ]
  },
  {
   "cell_type": "markdown",
   "metadata": {},
   "source": [
    "**ndarray.itemsize**  \n",
    "ndarray.itemsize以字节的形式返回数组中每一个元素的大小。  \n"
   ]
  },
  {
   "cell_type": "code",
   "execution_count": 17,
   "metadata": {},
   "outputs": [
    {
     "name": "stdout",
     "output_type": "stream",
     "text": [
      "1\n",
      "8\n"
     ]
    }
   ],
   "source": [
    "x = np.array([1, 2, 3, 4, 5], dtype=np.int8)\n",
    "print(x.itemsize)\n",
    "\n",
    "y = np.array([1, 2, 3, 4, 5], dtype=np.float64)\n",
    "print(y.itemsize)"
   ]
  },
  {
   "cell_type": "markdown",
   "metadata": {},
   "source": [
    "**ndarray.flags**  \n",
    "ndarray.flags返回ndarray对象的内存信息，包含以下属性：\n",
    "|属性|描述|\n",
    "|--|--|\n",
    "|C_CONTIGUOUS(C)|数据在一个单一的C风格的连续段中|\n",
    "|F_CONTIGUOUS (F)|数据是在一个单一的Fortran风格的连续段中|\n",
    "|OWNDATA (O)|数组拥有它所使用的内存或从另一个对象中借用它|\n",
    "|WRITEABLE (W)|数据区域可以被写入，将该值设置为 False，则数据为只读|\n",
    "|ALIGNED (A)|数据和所有元素都适当地对齐到硬件上|\n",
    "|UPDATEIFCOPY (U)|这个数组是其它数组的一个副本，当这个数组被释放时，原数组的内容将被更新|"
   ]
  },
  {
   "cell_type": "code",
   "execution_count": 18,
   "metadata": {},
   "outputs": [
    {
     "name": "stdout",
     "output_type": "stream",
     "text": [
      "  C_CONTIGUOUS : True\n",
      "  F_CONTIGUOUS : True\n",
      "  OWNDATA : True\n",
      "  WRITEABLE : True\n",
      "  ALIGNED : True\n",
      "  WRITEBACKIFCOPY : False\n",
      "  UPDATEIFCOPY : False\n",
      "\n"
     ]
    }
   ],
   "source": [
    "x = np.array([1, 2, 3, 4, 5])\n",
    "print(x.flags)"
   ]
  },
  {
   "cell_type": "markdown",
   "metadata": {},
   "source": [
    "## NumPy创建数组  \n",
    "ndarray数组除了可以使用底层ndarray构造器来创建外，也可以通过以下几种方式创建\n",
    "\n",
    "**numpy.empty**  \n",
    "```python\n",
    "numpy.empty(shape, dtype=float, order='C')\n",
    "```\n",
    "\n",
    "参数说明：\n",
    "|参数|描述|\n",
    "|shape|数组形状|\n",
    "|dtype|数据类型，可选|\n",
    "|order|有“C”和“F”两个选项，分别代表，行优先和列优先，在计算机内存中的存储元素的顺序|"
   ]
  },
  {
   "cell_type": "code",
   "execution_count": 19,
   "metadata": {},
   "outputs": [
    {
     "name": "stdout",
     "output_type": "stream",
     "text": [
      "[[1 2]\n",
      " [3 4]\n",
      " [5 6]]\n"
     ]
    }
   ],
   "source": [
    "x = np.empty([3 ,2], dtype=int)\n",
    "print(x)"
   ]
  },
  {
   "cell_type": "markdown",
   "metadata": {},
   "source": [
    "**numpy.zeros**  \n",
    "创建指定大小的数组，数组元素以0来填充：\n",
    "```python\n",
    "numpy.zeros(shape, dtype=float, order='C')\n",
    "```\n",
    "\n",
    "参数说明：\n",
    "|参数|描述|\n",
    "|--|--|\n",
    "|shape|数组形状|\n",
    "|dtype|数据类型，可选|\n",
    "|order|‘C’用于C的行数组，或者‘F’用于FORTRAN的列数组|"
   ]
  },
  {
   "cell_type": "code",
   "execution_count": 20,
   "metadata": {},
   "outputs": [
    {
     "name": "stdout",
     "output_type": "stream",
     "text": [
      "[0. 0. 0. 0. 0.]\n",
      "[0 0 0 0 0]\n",
      "[[(0, 0) (0, 0)]\n",
      " [(0, 0) (0, 0)]]\n"
     ]
    }
   ],
   "source": [
    "x = np.zeros(5)\n",
    "print(x)\n",
    "\n",
    "y = np.zeros((5,), dtype=np.int)\n",
    "print(y)\n",
    "\n",
    "z = np.zeros((2, 2), dtype=[('x', 'i4'), ('y', 'i4')])\n",
    "print(z)"
   ]
  },
  {
   "cell_type": "markdown",
   "metadata": {},
   "source": [
    "**numpy.ones**  \n",
    "创建指定形状的数组，数组元素以1来填充\n",
    "```python\n",
    "numpy.ones(shape, dtype=None, order='C')\n",
    "```\n",
    "\n",
    "参数说明：\n",
    "|参数|描述|\n",
    "|--|--|\n",
    "|shape|数组形状|\n",
    "|dtype|数据类型，可选|\n",
    "|order|‘C’用于C的行数组，或者‘F’用于FORTRAN的列数组|"
   ]
  },
  {
   "cell_type": "code",
   "execution_count": 21,
   "metadata": {},
   "outputs": [
    {
     "name": "stdout",
     "output_type": "stream",
     "text": [
      "[1. 1. 1. 1. 1.]\n",
      "[[1 1]\n",
      " [1 1]]\n"
     ]
    }
   ],
   "source": [
    "x = np.ones(5)\n",
    "print(x)\n",
    "\n",
    "x = np.ones([2, 2], dtype=int)\n",
    "print(x)"
   ]
  },
  {
   "cell_type": "markdown",
   "metadata": {},
   "source": [
    "## NumPy从已有的数组创建数组\n",
    "**numpy.asarray**  \n",
    "numpy.asarray类似numpy.array，但numpy.asarray参数只有3个，比numpy.array少两个。\n",
    "```python\n",
    "numpy..asarray(a, dtype=None, order=None)\n",
    "```\n",
    "\n",
    "参数说明：\n",
    "|参数|描述|\n",
    "|--|--|\n",
    "|a|任意形式的输入参数，可以是，列表，列表的元组，元组，元组的元组，元组的列表，多维数组|\n",
    "|dtype|数据类型，可选|\n",
    "|order|可选|\n",
    "\n"
   ]
  },
  {
   "cell_type": "code",
   "execution_count": 22,
   "metadata": {},
   "outputs": [
    {
     "name": "stdout",
     "output_type": "stream",
     "text": [
      "[1 2 3]\n"
     ]
    }
   ],
   "source": [
    "import numpy as np\n",
    "\n",
    "x = [1, 2, 3]\n",
    "a = np.asarray(x)\n",
    "print(a)"
   ]
  },
  {
   "cell_type": "code",
   "execution_count": 23,
   "metadata": {},
   "outputs": [
    {
     "name": "stdout",
     "output_type": "stream",
     "text": [
      "[1 2 3]\n"
     ]
    }
   ],
   "source": [
    "x = (1, 2, 3)\n",
    "a = np.asarray(x)\n",
    "print(a)"
   ]
  },
  {
   "cell_type": "code",
   "execution_count": 24,
   "metadata": {},
   "outputs": [
    {
     "name": "stdout",
     "output_type": "stream",
     "text": [
      "[(1, 2, 3) (4, 5)]\n"
     ]
    },
    {
     "name": "stderr",
     "output_type": "stream",
     "text": [
      "/Users/zhouyuchen/opt/anaconda3/lib/python3.8/site-packages/numpy/core/_asarray.py:83: VisibleDeprecationWarning: Creating an ndarray from ragged nested sequences (which is a list-or-tuple of lists-or-tuples-or ndarrays with different lengths or shapes) is deprecated. If you meant to do this, you must specify 'dtype=object' when creating the ndarray\n",
      "  return array(a, dtype, copy=False, order=order)\n"
     ]
    }
   ],
   "source": [
    "x = [(1, 2, 3), (4, 5)]\n",
    "a = np.asarray(x)\n",
    "print(a)"
   ]
  },
  {
   "cell_type": "code",
   "execution_count": 26,
   "metadata": {},
   "outputs": [
    {
     "name": "stdout",
     "output_type": "stream",
     "text": [
      "[1. 2. 3.]\n"
     ]
    }
   ],
   "source": [
    "x = [1, 2, 3]\n",
    "a = np.asarray(x, dtype=float)\n",
    "print(a)\n"
   ]
  },
  {
   "cell_type": "markdown",
   "metadata": {},
   "source": [
    "**numpy.frombuffer**  \n",
    "numpy.frombuffer 用于实现动态数组  \n",
    "numpy.frombuffer 接受buffer输入参数，以流的形式读入转化成ndarray对象\n",
    "\n",
    "```python\n",
    "numpy.frombuffer(buffer, dtype=float, count=-1, offset=0)\n",
    "```\n",
    "\n",
    "参数说明：\n",
    "|参数|描述|\n",
    "|--|--|\n",
    "|buffer|可以是任意对象，会以流的形式读入|\n",
    "|dtype|返回数组的数据类型|\n",
    "|count|读取的数据数量，默认为-1，读取所有数据|\n",
    "|offset|读取的起始位置，默认为0|"
   ]
  },
  {
   "cell_type": "code",
   "execution_count": 27,
   "metadata": {},
   "outputs": [
    {
     "name": "stdout",
     "output_type": "stream",
     "text": [
      "[b'H' b'e' b'l' b'l' b'o' b' ' b'W' b'o' b'r' b'l' b'd']\n"
     ]
    }
   ],
   "source": [
    "import numpy as np\n",
    "s = b'Hello World'\n",
    "a = np.frombuffer(s, dtype='S1')\n",
    "print(a)"
   ]
  },
  {
   "cell_type": "markdown",
   "metadata": {},
   "source": [
    "**numpy.fromiter**  \n",
    "numpy.fromiter 方法从可迭代对象中建立 ndarray 对象，返回一维数组。\n",
    "```python\n",
    "numpy.fromiter(iterable, dtype, count=-1)\n",
    "```\n",
    "\n",
    "|参数|描述|\n",
    "|iterable|可迭代对象|\n",
    "|dtype|返回数组的数据类型|\n",
    "|count|读取的数据数量，默认为-1，读取所有数据|"
   ]
  },
  {
   "cell_type": "code",
   "execution_count": 28,
   "metadata": {},
   "outputs": [
    {
     "name": "stdout",
     "output_type": "stream",
     "text": [
      "[0. 1. 2. 3. 4.]\n"
     ]
    }
   ],
   "source": [
    "import numpy as np\n",
    "\n",
    "list = range(5)\n",
    "it = iter(list)\n",
    "\n",
    "x = np.fromiter(it ,dtype=float)\n",
    "print(x)"
   ]
  },
  {
   "cell_type": "code",
   "execution_count": null,
   "metadata": {},
   "outputs": [],
   "source": []
  }
 ],
 "metadata": {
  "kernelspec": {
   "display_name": "Python 3",
   "language": "python",
   "name": "python3"
  },
  "language_info": {
   "codemirror_mode": {
    "name": "ipython",
    "version": 3
   },
   "file_extension": ".py",
   "mimetype": "text/x-python",
   "name": "python",
   "nbconvert_exporter": "python",
   "pygments_lexer": "ipython3",
   "version": "3.8.5"
  },
  "varInspector": {
   "cols": {
    "lenName": 16,
    "lenType": 16,
    "lenVar": 40
   },
   "kernels_config": {
    "python": {
     "delete_cmd_postfix": "",
     "delete_cmd_prefix": "del ",
     "library": "var_list.py",
     "varRefreshCmd": "print(var_dic_list())"
    },
    "r": {
     "delete_cmd_postfix": ") ",
     "delete_cmd_prefix": "rm(",
     "library": "var_list.r",
     "varRefreshCmd": "cat(var_dic_list()) "
    }
   },
   "types_to_exclude": [
    "module",
    "function",
    "builtin_function_or_method",
    "instance",
    "_Feature"
   ],
   "window_display": false
  }
 },
 "nbformat": 4,
 "nbformat_minor": 4
}
