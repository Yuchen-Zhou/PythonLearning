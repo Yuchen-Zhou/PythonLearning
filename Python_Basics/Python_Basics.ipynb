{
 "cells": [
  {
   "cell_type": "markdown",
   "metadata": {},
   "source": [
    "# Python基础\n",
    "## 基础语法\n",
    "### 从HelloWorld开始"
   ]
  },
  {
   "cell_type": "code",
   "execution_count": 1,
   "metadata": {},
   "outputs": [
    {
     "name": "stdout",
     "output_type": "stream",
     "text": [
      "Hello World!\n"
     ]
    }
   ],
   "source": [
    "print('Hello World!')"
   ]
  },
  {
   "cell_type": "markdown",
   "metadata": {},
   "source": [
    "###  标识符\n",
    "\n",
    "* 第一个字符必须是字母表中字母或下划线 _ 。  \n",
    "* 标识符的其他的部分由字母、数字和下划线组成。\n",
    "* 标识符对大小写敏感。\n"
   ]
  },
  {
   "cell_type": "markdown",
   "metadata": {},
   "source": [
    "### Python保留字\n",
    "Python的保留字（关键字），这些不能作为任何标识符名称。"
   ]
  },
  {
   "cell_type": "code",
   "execution_count": 3,
   "metadata": {},
   "outputs": [
    {
     "name": "stdout",
     "output_type": "stream",
     "text": [
      "['False', 'None', 'True', 'and', 'as', 'assert', 'async', 'await', 'break', 'class', 'continue', 'def', 'del', 'elif', 'else', 'except', 'finally', 'for', 'from', 'global', 'if', 'import', 'in', 'is', 'lambda', 'nonlocal', 'not', 'or', 'pass', 'raise', 'return', 'try', 'while', 'with', 'yield']\n"
     ]
    }
   ],
   "source": [
    "#查看Python的当前版本的所有关键字\n",
    "import keyword\n",
    "print(keyword.kwlist)"
   ]
  },
  {
   "cell_type": "markdown",
   "metadata": {},
   "source": [
    "### 注释\n",
    "* #\n",
    "* \"\"\"\"\"\"\n",
    "* ''''''"
   ]
  },
  {
   "cell_type": "markdown",
   "metadata": {},
   "source": [
    "### 行与缩进"
   ]
  },
  {
   "cell_type": "code",
   "execution_count": 4,
   "metadata": {},
   "outputs": [
    {
     "name": "stdout",
     "output_type": "stream",
     "text": [
      "True\n"
     ]
    }
   ],
   "source": [
    "if True:\n",
    "    print('True')\n",
    "else: \n",
    "    print('False')"
   ]
  },
  {
   "cell_type": "markdown",
   "metadata": {},
   "source": [
    "### 多行语句\n",
    "在Python我们可以使用`\\`来实现多行语句"
   ]
  },
  {
   "cell_type": "code",
   "execution_count": null,
   "metadata": {},
   "outputs": [],
   "source": [
    "total = item_one + \\\n",
    "        item_two + \\\n",
    "        item_three"
   ]
  },
  {
   "cell_type": "code",
   "execution_count": null,
   "metadata": {},
   "outputs": [],
   "source": [
    "#在[],{},()中不需要\\也可以实现换行\n",
    "total = ['item_one', 'item_two', 'item_three',\n",
    "        'item_four', 'item_five']"
   ]
  },
  {
   "cell_type": "markdown",
   "metadata": {},
   "source": [
    "### 数字(Number)类型\n",
    "python中数字有四种类型：整数、布尔型、浮点数和复数。\n",
    "* int (整数), 如 1, 只有一种整数类型 int，表示为长整型，没有 python2 中的 Long。\n",
    "* bool (布尔), 如 True。\n",
    "* float (浮点数), 如 1.23、3E-2\n",
    "* complex (复数), 如 1 + 2j、 1.1 + 2.2j"
   ]
  },
  {
   "cell_type": "markdown",
   "metadata": {},
   "source": [
    "### 字符串(String)\n",
    "* python中单引号和双引号使用完全相同。\n",
    "* 使用三引号(''' 或 \"\"\")可以指定一个多行字符串。\n",
    "* 转义符 \\\n",
    "* 反斜杠可以用来转义，使用r可以让反斜杠不发生转义。。 如 r\"this is a line with \\n\" 则\\n会显示，并不是换行。\n",
    "* 按字面意义级联字符串，如\"this \" \"is \" \"string\"会被自动转换为this is string。\n",
    "* 字符串可以用 + 运算符连接在一起，用 * 运算符重复。\n",
    "* Python 中的字符串有两种索引方式，从左往右以 0 开始，从右往左以 -1 开始。\n",
    "* Python中的字符串不能改变。\n",
    "* Python 没有单独的字符类型，一个字符就是长度为 1 的字符串。\n",
    "* 字符串的截取的语法格式如下：变量[头下标:尾下标:步长]\n",
    "\n",
    "``` python\n",
    "word = '字符串'\n",
    "sentence = \"这是一个句子。\"\n",
    "paragraph = \"\"\"这是一个段落，\n",
    "可以由多行组成\"\"\"\n",
    "```"
   ]
  },
  {
   "cell_type": "code",
   "execution_count": 6,
   "metadata": {},
   "outputs": [
    {
     "name": "stdout",
     "output_type": "stream",
     "text": [
      "123456789\n",
      "12345678\n",
      "1\n",
      "345\n",
      "3456789\n",
      "24\n",
      "123456789123456789\n",
      "123456789你好\n",
      "------------------------------\n",
      "hello\n",
      "runoob\n",
      "hello\\nrunoob\n"
     ]
    }
   ],
   "source": [
    "str='123456789'\n",
    " \n",
    "print(str)                 # 输出字符串\n",
    "print(str[0:-1])           # 输出第一个到倒数第二个的所有字符\n",
    "print(str[0])              # 输出字符串第一个字符\n",
    "print(str[2:5])            # 输出从第三个开始到第五个的字符\n",
    "print(str[2:])             # 输出从第三个开始后的所有字符\n",
    "print(str[1:5:2])          # 输出从第二个开始到第五个且每隔一个的字符（步长为2）\n",
    "print(str * 2)             # 输出字符串两次\n",
    "print(str + '你好')         # 连接字符串\n",
    " \n",
    "print('------------------------------')\n",
    " \n",
    "print('hello\\nrunoob')      # 使用反斜杠(\\)+n转义特殊字符\n",
    "print(r'hello\\nrunoob')     # 在字符串前面添加一个 r，表示原始字符串，不会发生转义"
   ]
  },
  {
   "cell_type": "markdown",
   "metadata": {},
   "source": [
    "### 空行\n",
    "* 函数之间或类的方法之间用空行分隔，表示一段新的代码的开始。类和函数入口之间也用一行空行分隔，以突出函数入口的开始。\n",
    "* 空行与代码缩进不同，空行并不是Python语法的一部分。书写时不插入空行，Python解释器运行也不会出错。但是空行的作用在于分隔两段不同功能或含义的代码，便于日后代码的维护或重构。\n",
    "* 记住：空行也是程序代码的一部分。"
   ]
  },
  {
   "cell_type": "markdown",
   "metadata": {},
   "source": [
    "### 等待用户输入\n",
    "```python \n",
    "input('请输入')\n",
    "```"
   ]
  },
  {
   "cell_type": "code",
   "execution_count": 7,
   "metadata": {},
   "outputs": [
    {
     "name": "stdout",
     "output_type": "stream",
     "text": [
      "\n",
      "\n",
      "按下ENTER即可完成输入刘金林是傻逼\n"
     ]
    },
    {
     "data": {
      "text/plain": [
       "'刘金林是傻逼'"
      ]
     },
     "execution_count": 7,
     "metadata": {},
     "output_type": "execute_result"
    }
   ],
   "source": [
    "input('\\n\\n按下ENTER即可完成输入')"
   ]
  },
  {
   "cell_type": "markdown",
   "metadata": {},
   "source": [
    "### 同一行显示多条语句"
   ]
  },
  {
   "cell_type": "code",
   "execution_count": 9,
   "metadata": {},
   "outputs": [
    {
     "name": "stdout",
     "output_type": "stream",
     "text": [
      "123\n"
     ]
    }
   ],
   "source": [
    "import sys; x = '123'; sys.stdout.write(x + '\\n')"
   ]
  },
  {
   "cell_type": "markdown",
   "metadata": {},
   "source": [
    "### import 与 from...import\n",
    "* 在 python 用 import 或者 from...import 来导入相应的模块。\n",
    "* 将整个模块(somemodule)导入，格式为： `import somemodule`\n",
    "* 从某个模块中导入某个函数,格式为： `from somemodule import somefunction`\n",
    "* 从某个模块中导入多个函数,格式为： `from somemodule import firstfunc, secondfunc, thirdfunc`\n",
    "*将某个模块中的全部函数导入，格式为： `from somemodule import *`\n"
   ]
  },
  {
   "cell_type": "code",
   "execution_count": 10,
   "metadata": {},
   "outputs": [
    {
     "name": "stdout",
     "output_type": "stream",
     "text": [
      "================Python import mode==========================\n",
      "命令行参数为:\n",
      "/Users/zhouyuchen/opt/anaconda3/lib/python3.8/site-packages/ipykernel_launcher.py\n",
      "-f\n",
      "/Users/zhouyuchen/Library/Jupyter/runtime/kernel-74f5af44-93c9-4c62-9f4d-8bee4c9e2b59.json\n",
      "\n",
      " python 路径为 ['/Users/zhouyuchen/Python/PythonLearing', '/Users/zhouyuchen/opt/anaconda3/lib/python38.zip', '/Users/zhouyuchen/opt/anaconda3/lib/python3.8', '/Users/zhouyuchen/opt/anaconda3/lib/python3.8/lib-dynload', '', '/Users/zhouyuchen/opt/anaconda3/lib/python3.8/site-packages', '/Users/zhouyuchen/opt/anaconda3/lib/python3.8/site-packages/aeosa', '/Users/zhouyuchen/opt/anaconda3/lib/python3.8/site-packages/backports.zoneinfo-0.2.1-py3.8-macosx-10.9-x86_64.egg', '/Users/zhouyuchen/opt/anaconda3/lib/python3.8/site-packages/IPython/extensions', '/Users/zhouyuchen/.ipython']\n"
     ]
    }
   ],
   "source": [
    "#导入sys模块\n",
    "import sys\n",
    "print('================Python import mode==========================')\n",
    "print ('命令行参数为:')\n",
    "for i in sys.argv:\n",
    "    print (i)\n",
    "print ('\\n python 路径为',sys.path)"
   ]
  },
  {
   "cell_type": "code",
   "execution_count": 11,
   "metadata": {},
   "outputs": [
    {
     "name": "stdout",
     "output_type": "stream",
     "text": [
      "================python from import===================================\n",
      "path: ['/Users/zhouyuchen/Python/PythonLearing', '/Users/zhouyuchen/opt/anaconda3/lib/python38.zip', '/Users/zhouyuchen/opt/anaconda3/lib/python3.8', '/Users/zhouyuchen/opt/anaconda3/lib/python3.8/lib-dynload', '', '/Users/zhouyuchen/opt/anaconda3/lib/python3.8/site-packages', '/Users/zhouyuchen/opt/anaconda3/lib/python3.8/site-packages/aeosa', '/Users/zhouyuchen/opt/anaconda3/lib/python3.8/site-packages/backports.zoneinfo-0.2.1-py3.8-macosx-10.9-x86_64.egg', '/Users/zhouyuchen/opt/anaconda3/lib/python3.8/site-packages/IPython/extensions', '/Users/zhouyuchen/.ipython']\n"
     ]
    }
   ],
   "source": [
    "#导入sys模块中的argv、path成员\n",
    "from sys import argv,path  #  导入特定的成员\n",
    " \n",
    "print('================python from import===================================')\n",
    "print('path:',path) # 因为已经导入path成员，所以此处引用时不需要加sys.path"
   ]
  },
  {
   "cell_type": "markdown",
   "metadata": {},
   "source": [
    "你已经学会了Python的基础语法了，让我们继续看看Python的基础数据类型吧"
   ]
  },
  {
   "cell_type": "markdown",
   "metadata": {},
   "source": [
    "## Python的基本数据类型\n",
    "Python 中的变量不需要声明。每个变量在使用前都必须赋值，变量赋值以后该变量才会被创建。  \n",
    "在 Python 中，变量就是变量，它没有类型，我们所说的\"类型\"是变量所指的内存中对象的类型。  \n",
    "等号（=）用来给变量赋值。  \n",
    "等号（=）运算符左边是一个变量名,等号（=）运算符右边是存储在变量中的值。"
   ]
  },
  {
   "cell_type": "code",
   "execution_count": 12,
   "metadata": {},
   "outputs": [
    {
     "name": "stdout",
     "output_type": "stream",
     "text": [
      "100\n",
      "1000.0\n",
      "runoob\n"
     ]
    }
   ],
   "source": [
    "counter = 100          # 整型变量\n",
    "miles   = 1000.0       # 浮点型变量\n",
    "name    = \"runoob\"     # 字符串\n",
    "\n",
    "print (counter)\n",
    "print (miles)\n",
    "print (name)"
   ]
  },
  {
   "cell_type": "markdown",
   "metadata": {},
   "source": [
    "### 多个变量赋值\n",
    "Python允许你同时给多个变量赋值"
   ]
  },
  {
   "cell_type": "code",
   "execution_count": 13,
   "metadata": {},
   "outputs": [],
   "source": [
    "a = b = c = 1"
   ]
  },
  {
   "cell_type": "markdown",
   "metadata": {},
   "source": [
    "也可以为多个变量赋于不同的值"
   ]
  },
  {
   "cell_type": "code",
   "execution_count": 14,
   "metadata": {},
   "outputs": [],
   "source": [
    "a, b, c = 1, 2, \"runoob\""
   ]
  },
  {
   "cell_type": "markdown",
   "metadata": {},
   "source": [
    "### 标准数据类型\n",
    "Python3 中有六个标准的数据类型：\n",
    "- Number（数字）\n",
    "- String（字符串）\n",
    "- List（列表）\n",
    "- Tuple（元组）\n",
    "- Set（集合）\n",
    "- Dictionary（字典）\n",
    "Python3 的六个标准数据类型中：\n",
    "- 不可变数据（3 个）：Number（数字）、String（字符串）、Tuple（元组）；\n",
    "- 可变数据（3 个）：List（列表）、Dictionary（字典）、Set（集合）。"
   ]
  },
  {
   "cell_type": "markdown",
   "metadata": {},
   "source": [
    "### Number（数字）\n",
    "Python3 支持 int、float、bool、complex（复数）。  \n",
    "在Python 3里，只有一种整数类型 int，表示为长整型，没有 python2 中的 Long。  \n",
    "像大多数语言一样，数值类型的赋值和计算都是很直观的。  \n",
    "内置的 type() 函数可以用来查询变量所指的对象类型。  "
   ]
  },
  {
   "cell_type": "code",
   "execution_count": 15,
   "metadata": {},
   "outputs": [
    {
     "name": "stdout",
     "output_type": "stream",
     "text": [
      "<class 'int'> <class 'float'> <class 'bool'> <class 'complex'>\n"
     ]
    }
   ],
   "source": [
    "a, b, c, d = 20, 5.5, True, 4+3j\n",
    "print(type(a), type(b), type(c), type(d))"
   ]
  },
  {
   "cell_type": "code",
   "execution_count": 16,
   "metadata": {},
   "outputs": [
    {
     "data": {
      "text/plain": [
       "True"
      ]
     },
     "execution_count": 16,
     "metadata": {},
     "output_type": "execute_result"
    }
   ],
   "source": [
    "a = 111\n",
    "isinstance(a, int)"
   ]
  },
  {
   "cell_type": "markdown",
   "metadata": {},
   "source": [
    "### 数值运算"
   ]
  },
  {
   "cell_type": "code",
   "execution_count": 18,
   "metadata": {},
   "outputs": [
    {
     "name": "stdout",
     "output_type": "stream",
     "text": [
      "9\n",
      "2.3\n",
      "21\n",
      "0.5\n",
      "0\n",
      "2\n",
      "32\n"
     ]
    }
   ],
   "source": [
    "print(5 + 4)  # 加法\n",
    "print(4.3 - 2) # 减法\n",
    "print(3 * 7) # 乘法\n",
    "print(2 / 4)  # 除法，得到一个浮点数\n",
    "print(2 // 4) # 除法，得到一个整数\n",
    "print(17 % 3) # 取余 \n",
    "print(2 ** 5) # 乘方"
   ]
  },
  {
   "cell_type": "markdown",
   "metadata": {},
   "source": [
    "注意：\n",
    "- Python可以同时为多个变量赋值，如a, b = 1, 2。\n",
    "- 一个变量可以通过赋值指向不同类型的对象。\n",
    "- 数值的除法包含两个运算符：/ 返回一个浮点数，// 返回一个整数。\n",
    "- 在混合计算时，Python会把整型转换成为浮点数。"
   ]
  },
  {
   "cell_type": "markdown",
   "metadata": {},
   "source": [
    "### 数值类型实例\n",
    "\n",
    "|int|float|complex|\n",
    "|--|--|--|\n",
    "|10|0.0|3.14|\n",
    "|100|15.20|45.j|\n",
    "|-786|-21.9|9.322e-36j|\n",
    "|080|32.3e+18|.876j|\n",
    "|-0490|-90.|-.6545+0J|\n",
    "|-0x260|-32.54e100|3e+26J|\n",
    "|0x69|70.2E-12|4.53e-7j|\n",
    "\n",
    "Python还支持复数，复数由实数部分和虚数部分构成，可以用a + bj,或者complex(a,b)表示， 复数的实部a和虚部b都是浮点型"
   ]
  },
  {
   "attachments": {
    "1.svg": {
     "image/svg+xml": [
      "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"
     ]
    }
   },
   "cell_type": "markdown",
   "metadata": {},
   "source": [
    "### String（字符串）\n",
    "Python中的字符串用单引号 ' 或双引号 \" 括起来，同时使用反斜杠 \\ 转义特殊字符。\n",
    "字符串的截取的语法格式如下：\n",
    "```python\n",
    "变量[头下标:尾下标]\n",
    "```\n",
    "索引值以 0 为开始值，-1 为从末尾的开始位置。\n",
    "![1.svg](attachment:1.svg)\n",
    "加号 `+ `是字符串的连接符， 星号 * 表示复制当前字符串，与之结合的数字为复制的次数。"
   ]
  },
  {
   "cell_type": "code",
   "execution_count": 19,
   "metadata": {},
   "outputs": [
    {
     "name": "stdout",
     "output_type": "stream",
     "text": [
      "Runoob\n",
      "Runoo\n",
      "R\n",
      "noo\n",
      "noob\n",
      "RunoobRunoob\n",
      "RunoobTEST\n"
     ]
    }
   ],
   "source": [
    "str = 'Runoob'\n",
    "\n",
    "print (str)          # 输出字符串\n",
    "print (str[0:-1])    # 输出第一个到倒数第二个的所有字符\n",
    "print (str[0])       # 输出字符串第一个字符\n",
    "print (str[2:5])     # 输出从第三个开始到第五个的字符\n",
    "print (str[2:])      # 输出从第三个开始的后的所有字符\n",
    "print (str * 2)      # 输出字符串两次，也可以写成 print (2 * str) \n",
    "print (str + \"TEST\") # 连接字符串"
   ]
  },
  {
   "cell_type": "markdown",
   "metadata": {},
   "source": [
    "Python 使用反斜杠 `\\` 转义特殊字符，如果你不想让反斜杠发生转义，可以在字符串前面添加一个 `r`，表示原始字符串："
   ]
  },
  {
   "cell_type": "code",
   "execution_count": 20,
   "metadata": {},
   "outputs": [
    {
     "name": "stdout",
     "output_type": "stream",
     "text": [
      "Ru\n",
      "noob\n",
      "Run\\noob\n"
     ]
    }
   ],
   "source": [
    "print('Ru\\nnoob')\n",
    "print(r'Run\\noob')"
   ]
  },
  {
   "cell_type": "markdown",
   "metadata": {},
   "source": [
    "另外，反斜杠(\\)可以作为续行符，表示下一行是上一行的延续。也可以使用 \"\"\"...\"\"\" 或者 '''...''' 跨越多行。\n",
    "注意，Python 没有单独的字符类型，一个字符就是长度为1的字符串。"
   ]
  },
  {
   "cell_type": "code",
   "execution_count": 21,
   "metadata": {},
   "outputs": [
    {
     "name": "stdout",
     "output_type": "stream",
     "text": [
      "P n\n",
      "n P\n"
     ]
    }
   ],
   "source": [
    "word = 'Python'\n",
    "print(word[0], word[5])\n",
    "print(word[-1], word[-6])"
   ]
  },
  {
   "cell_type": "markdown",
   "metadata": {},
   "source": [
    "### 注意：\n",
    "- 反斜杠可以用来转义，使用r可以让反斜杠不发生转义。\n",
    "- 字符串可以用+运算符连接在一起，用*运算符重复。\n",
    "- Python中的字符串有两种索引方式，从左往右以0开始，从右往左以-1开始。\n",
    "- Python中的字符串不能改变。"
   ]
  },
  {
   "attachments": {},
   "cell_type": "markdown",
   "metadata": {},
   "source": [
    "### List（列表）\n",
    "- List（列表） 是 Python 中使用最频繁的数据类型。\n",
    "- 列表可以完成大多数集合类的数据结构实现。列表中元素的类型可以不相同，它支持数字，字符串甚至可以包含列表（所谓嵌套）。\n",
    "- 列表是写在方括号 [] 之间、用逗号分隔开的元素列表。\n",
    "- 和字符串一样，列表同样可以被索引和截取，列表被截取后返回一个包含所需元素的新列表。\n",
    "- 列表截取的语法格式如下：\n",
    "- 变量[头下标:尾下标]\n",
    "- 索引值以 0 为开始值，-1 为从末尾的开始位置。\n",
    "<img src='./2.png' width='60%'>\n",
    "加号 + 是列表连接运算符，星号 * 是重复操作。"
   ]
  },
  {
   "cell_type": "code",
   "execution_count": 22,
   "metadata": {},
   "outputs": [
    {
     "name": "stdout",
     "output_type": "stream",
     "text": [
      "['abcd', 786, 2.23, 'runoob', 70.2]\n",
      "abcd\n",
      "[786, 2.23]\n",
      "[2.23, 'runoob', 70.2]\n",
      "[123, 'runoob', 123, 'runoob']\n",
      "['abcd', 786, 2.23, 'runoob', 70.2, 123, 'runoob']\n"
     ]
    }
   ],
   "source": [
    "list = [ 'abcd', 786 , 2.23, 'runoob', 70.2 ]\n",
    "tinylist = [123, 'runoob']\n",
    "\n",
    "print (list)            # 输出完整列表\n",
    "print (list[0])         # 输出列表第一个元素\n",
    "print (list[1:3])       # 从第二个开始输出到第三个元素\n",
    "print (list[2:])        # 输出从第三个元素开始的所有元素\n",
    "print (tinylist * 2)    # 输出两次列表\n",
    "print (list + tinylist) # 连接列表"
   ]
  },
  {
   "cell_type": "code",
   "execution_count": 24,
   "metadata": {},
   "outputs": [
    {
     "name": "stdout",
     "output_type": "stream",
     "text": [
      "[9, 2, 13, 14, 15, 6]\n",
      "[9, 2, 6]\n"
     ]
    }
   ],
   "source": [
    "a = [1, 2, 3, 4, 5, 6]\n",
    "a[0] = 9\n",
    "a[2:5] = [13, 14, 15]\n",
    "print(a)\n",
    "[9, 2, 13, 14, 15, 6]\n",
    "a[2:5] = []   # 将对应的元素值设置为 [] \n",
    "print(a)"
   ]
  },
  {
   "cell_type": "markdown",
   "metadata": {},
   "source": [
    "注意：\n",
    "- List写在方括号之间，元素用逗号隔开。\n",
    "- 和字符串一样，list可以被索引和切片。\n",
    "- List可以使用+操作符进行拼接。\n",
    "- List中的元素是可以改变的。\n"
   ]
  },
  {
   "cell_type": "code",
   "execution_count": 26,
   "metadata": {},
   "outputs": [
    {
     "name": "stdout",
     "output_type": "stream",
     "text": [
      "runoob like I\n"
     ]
    }
   ],
   "source": [
    "def reverseWords(input): \n",
    "      \n",
    "    # 通过空格将字符串分隔符，把各个单词分隔为列表\n",
    "    inputWords = input.split(\" \") \n",
    "  \n",
    "    # 翻转字符串\n",
    "    # 假设列表 list = [1,2,3,4],  \n",
    "    # list[0]=1, list[1]=2 ，而 -1 表示最后一个元素 list[-1]=4 ( 与 list[3]=4 一样) \n",
    "    # inputWords[-1::-1] 有三个参数\n",
    "    # 第一个参数 -1 表示最后一个元素\n",
    "    # 第二个参数为空，表示移动到列表末尾\n",
    "    # 第三个参数为步长，-1 表示逆向\n",
    "    inputWords=inputWords[-1::-1] \n",
    "  \n",
    "    # 重新组合字符串\n",
    "    output = ' '.join(inputWords) \n",
    "      \n",
    "    return output \n",
    "  \n",
    "if __name__ == \"__main__\": \n",
    "    input = 'I like runoob'\n",
    "    rw = reverseWords(input) \n",
    "    print(rw)"
   ]
  },
  {
   "cell_type": "markdown",
   "metadata": {},
   "source": [
    "### Tuple（元组）\n",
    "元组（tuple）与列表类似，不同之处在于元组的元素不能修改。元组写在小括号 () 里，元素之间用逗号隔开。"
   ]
  },
  {
   "cell_type": "code",
   "execution_count": 27,
   "metadata": {},
   "outputs": [
    {
     "name": "stdout",
     "output_type": "stream",
     "text": [
      "('abcd', 786, 2.23, 'runoob', 70.2)\n",
      "abcd\n",
      "(786, 2.23)\n",
      "(2.23, 'runoob', 70.2)\n",
      "(123, 'runoob', 123, 'runoob')\n",
      "('abcd', 786, 2.23, 'runoob', 70.2, 123, 'runoob')\n"
     ]
    }
   ],
   "source": [
    "tuple = ( 'abcd', 786 , 2.23, 'runoob', 70.2  )\n",
    "tinytuple = (123, 'runoob')\n",
    "\n",
    "print (tuple)             # 输出完整元组\n",
    "print (tuple[0])          # 输出元组的第一个元素\n",
    "print (tuple[1:3])        # 输出从第二个元素开始到第三个元素\n",
    "print (tuple[2:])         # 输出从第三个元素开始的所有元素\n",
    "print (tinytuple * 2)     # 输出两次元组\n",
    "print (tuple + tinytuple) # 连接元组"
   ]
  },
  {
   "cell_type": "markdown",
   "metadata": {},
   "source": [
    "注意：\n",
    "- 与字符串一样，元组的元素不能修改。\n",
    "- 元组也可以被索引和切片，方法一样。\n",
    "- 注意构造包含 0 或 1 个元素的元组的特殊语法规则。\n",
    "- 元组也可以使用+操作符进行拼接。"
   ]
  },
  {
   "cell_type": "markdown",
   "metadata": {},
   "source": [
    "### Set（集合）\n",
    "集合（set）是由一个或数个形态各异的大小整体组成的，构成集合的事物或对象称作元素或是成员。\n",
    "基本功能是进行成员关系测试和删除重复元素。\n",
    "可以使用大括号 { } 或者 set() 函数创建集合，注意：创建一个空集合必须用 set() 而不是 { }，因为 { } 是用来创建一个空字典。\n",
    "创建格式：\n",
    "parame = {value01,value02,...}\n",
    "或者\n",
    "set(value)"
   ]
  }
 ],
 "metadata": {
  "kernelspec": {
   "display_name": "Python 3",
   "language": "python",
   "name": "python3"
  },
  "language_info": {
   "codemirror_mode": {
    "name": "ipython",
    "version": 3
   },
   "file_extension": ".py",
   "mimetype": "text/x-python",
   "name": "python",
   "nbconvert_exporter": "python",
   "pygments_lexer": "ipython3",
   "version": "3.8.5"
  },
  "varInspector": {
   "cols": {
    "lenName": 16,
    "lenType": 16,
    "lenVar": 40
   },
   "kernels_config": {
    "python": {
     "delete_cmd_postfix": "",
     "delete_cmd_prefix": "del ",
     "library": "var_list.py",
     "varRefreshCmd": "print(var_dic_list())"
    },
    "r": {
     "delete_cmd_postfix": ") ",
     "delete_cmd_prefix": "rm(",
     "library": "var_list.r",
     "varRefreshCmd": "cat(var_dic_list()) "
    }
   },
   "types_to_exclude": [
    "module",
    "function",
    "builtin_function_or_method",
    "instance",
    "_Feature"
   ],
   "window_display": false
  }
 },
 "nbformat": 4,
 "nbformat_minor": 4
}
