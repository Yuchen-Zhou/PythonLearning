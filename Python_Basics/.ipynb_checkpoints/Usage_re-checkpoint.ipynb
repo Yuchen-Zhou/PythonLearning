{
 "cells": [
  {
   "cell_type": "markdown",
   "metadata": {},
   "source": [
    "# 正则表达式\n",
    "    本节汇总，我们看一下正则表达式的相关用法。正则表达式是处理字符串的强大工具，它有自己特定的语法结构，有了它，实现字符串的检索、替换、匹配验证都不在话下"
   ]
  },
  {
   "cell_type": "markdown",
   "metadata": {},
   "source": [
    "### 1.实例引入\n",
    "    打开开源中国提供的正则表达式测试工具http://tool.oschina.net/regex/ 待输入待匹配的文本，然后选择常用的正则表达式，就可以得出相应的匹配结果。例如，这里输入待匹配的文本如下:  Hello, my phone number is 010-86432100 and email is 645251181@qq.com, and my website is https://zhouyuchen.com\n",
    "    \n",
    "    对于URL来说，可以用下面的正则表达式匹配：  \n",
    "    [a-zA-Z]+://[^\\s]*  "
   ]
  },
  {
   "cell_type": "markdown",
   "metadata": {},
   "source": [
    "这个正则表达式，有着特定的语法规则。比如，a-z代表匹配任意小写字母，\\s表示匹配任意的空白字符，*就代表着匹配前面的字符任意多个，这一长串的正则表达式就是这么多匹配规则的组合  "
   ]
  },
  {
   "cell_type": "markdown",
   "metadata": {},
   "source": [
    "### 常用的匹配规则\n",
    "    模   式                          描述  \n",
    "    \\w                         匹配字母、数字以及下划线的字符  \n",
    "    \\W                         匹配不是字母、数字以及下划线的字符  \n",
    "    \\s                         匹配任意空白字符，等价于[\\t\\n\\r\\f]  \n",
    "    \\S                         匹配任意非空字符  \n",
    "    \\d                         匹配任意数字，等价于[0-9]  \n",
    "    \\D                         匹配任意非数字字符  \n",
    "    \\A                         匹配字符串开头  \n",
    "    \\Z                         匹配字符串结尾，如果存在换行，只匹配到换行前  \n",
    "    \\z                         匹配字符串结尾，存在换行，同时匹配换行符  \n",
    "    \\G                         匹配最后匹配完成的位置  \n",
    "    \\n                         匹配一个换行符  \n",
    "    \\t                         匹配一个制表符  \n",
    "    ^                          匹配一行字符串开头  \n",
    "    $                          匹配一行字符串结尾  \n",
    "    .                          匹配任意字符，除了换行符，当re.DOTALL标记被指定时，可以匹配包括换行符的任意字符  \n",
    "    [...]                      用来表示一组字符，单独列出，如[amk]匹配a、m或k  \n",
    "    [^...]                     不在[]中的字符，比如[^abc]匹配除了a、b、c之外的字符  \n",
    "    *                          匹配0个或者多个表达式    \n",
    "    +                          匹配1个或者多个表达式  \n",
    "    ?                          匹配0个或1个前面的正则表达式定义的片段，非贪婪方式  \n",
    "    {n}                        精确匹配n个前面的表达式  \n",
    "    {n,m}                      匹配n到m次由前面正则表达式定义的片段，贪婪方式  \n",
    "    a|b                        匹配a或b  \n",
    "    ()                         匹配括号内的表达式，也表示一个组"
   ]
  },
  {
   "cell_type": "markdown",
   "metadata": {},
   "source": [
    "Python中的re库提供了整个正则表达式的实现，利用这个库，利用这个库，可以在python中使用正则表达式。\n",
    "\n",
    "      "
   ]
  },
  {
   "cell_type": "markdown",
   "metadata": {},
   "source": [
    "### 2.match()\n",
    "    这里首先介绍第一个常用匹配方法----match()，向它传入要匹配的字符串以及正则表达式，就可以检测这个正则表达式是否匹配字符串  \n",
    "    match()方法会尝试从字符串的起始位置匹配正则表达式，如果匹配，就返回匹配成功的结果；如果不匹配，就会返回None\n",
    " "
   ]
  },
  {
   "cell_type": "code",
   "execution_count": 2,
   "metadata": {},
   "outputs": [
    {
     "name": "stdout",
     "output_type": "stream",
     "text": [
      "41\n",
      "<re.Match object; span=(0, 25), match='Hello 123 4567 World_This'>\n",
      "Hello 123 4567 World_This\n",
      "(0, 25)\n"
     ]
    }
   ],
   "source": [
    "import re\n",
    "\n",
    "content = 'Hello 123 4567 World_This is a Regex Demo'\n",
    "print(len(content))\n",
    "result = re.match('^Hello\\s\\d\\d\\d\\s\\d{4}\\s\\w{10}', content)\n",
    "print(result)\n",
    "print(result.group())\n",
    "print(result.span())"
   ]
  },
  {
   "cell_type": "markdown",
   "metadata": {},
   "source": [
    "这里首先声明了一个字符串，其中包含英文字符、空白字符、数字等。接下来，写一个正则表达式：  ^Hello\\s\\d\\d\\d\\s\\d{4}\\s\\w{10}  \n",
    "用来匹配这个长字符串。开头的^是匹配字符串的开头，也就是以Hello开头；然后\\s匹配空白字符，用来匹配目标字符串的空格；\\d匹配数字，3个\\d匹配123；然后再写一个\\s匹配空格；后面还有4567，可以用4个\\d，但是比较麻烦，所以后面可以跟{4}以代表匹配前面的规则4次，也就是匹配4个数字；然后后面再紧接1个空白字符，最后\\w{10}匹配10个字母以及下划线。\n",
    "\n",
    "打印输出结果，可以看到结果SRE_Match对象，这就是成功匹配。该对象有两个方法：group()方法可以输出匹配到的内容，结果是Hello 123 4567 World_This,这恰好是正则表达式规则所匹配的内容；span()方法可以输出匹配的范围，结果是(0,25),这就是匹配的结果字符串在原字符串的位置范围"
   ]
  },
  {
   "cell_type": "markdown",
   "metadata": {},
   "source": [
    "·匹配目标\n",
    "    这里可以使用()括号将想要提取的子字符串括起来。()实际上标记了一个子表达式的开始和结束位置，被标记的每个子表达式会依次对应每一个分组，调用group()方法传入分组的索引即可获取提取的结果。示例如下："
   ]
  },
  {
   "cell_type": "code",
   "execution_count": 6,
   "metadata": {},
   "outputs": [
    {
     "name": "stdout",
     "output_type": "stream",
     "text": [
      "<re.Match object; span=(0, 19), match='Hello 1234567 World'>\n",
      "Hello 1234567 World\n",
      "1234567\n",
      "(0, 19)\n"
     ]
    }
   ],
   "source": [
    "import re\n",
    "\n",
    "content = 'Hello 1234567 World_This is a Regex Demo'\n",
    "result = re.match('^Hello\\s(\\d+)\\sWorld', content)\n",
    "print(result)\n",
    "print(result.group())\n",
    "print(result.group(1))\n",
    "print(result.span())"
   ]
  },
  {
   "cell_type": "markdown",
   "metadata": {},
   "source": [
    "可以看到，我们成功得到了1234567.这里用的是group(1),它与group()不同的有所不同，后者会输出完整的匹配结果，而前者会输出第一个被()包围的匹配结果。假如正则表达式后面还有()包括的内容，那么可以依次用group(2)、group(3)等来获取\n",
    "\n",
    "·通用匹配\n",
    "    刚才我们写的正则表达式其实比较复杂，出现空白字符我们就写\\s匹配，出现数字我们就用\\d匹配，这样的工作量非常大。其实完全没必要，还有一个万能匹配可以用，就是.*。其中.可以匹配任意字符（除换行符），*代表匹配前面的字符无限次，所以它们组合在一起就可以匹配任意字符来。\n",
    "    \n",
    "接着上面的例子，改写正则表达式"
   ]
  },
  {
   "cell_type": "code",
   "execution_count": 7,
   "metadata": {},
   "outputs": [
    {
     "name": "stdout",
     "output_type": "stream",
     "text": [
      "<re.Match object; span=(0, 40), match='Hello 1234567 World_This is a Regex Demo'>\n",
      "Hello 1234567 World_This is a Regex Demo\n",
      "(0, 40)\n"
     ]
    }
   ],
   "source": [
    "result = re.match('^Hello.*Demo$',content)\n",
    "print(result)\n",
    "print(result.group())\n",
    "print(result.span())"
   ]
  },
  {
   "cell_type": "markdown",
   "metadata": {},
   "source": [
    "·贪婪与非贪婪\n",
    "    使用上面的通用匹配.*时，可能有时候匹配到的并不是我们想要的结果"
   ]
  },
  {
   "cell_type": "code",
   "execution_count": 8,
   "metadata": {},
   "outputs": [
    {
     "name": "stdout",
     "output_type": "stream",
     "text": [
      "<re.Match object; span=(0, 40), match='Hello 1234567 World_This is a Regex Demo'>\n",
      "7\n"
     ]
    }
   ],
   "source": [
    "import re \n",
    "content = 'Hello 1234567 World_This is a Regex Demo'\n",
    "result = re.match('^He.*(\\d+).*Demo$', content)\n",
    "print(result)\n",
    "print(result.group(1))"
   ]
  },
  {
   "cell_type": "markdown",
   "metadata": {},
   "source": [
    "这里就涉及一个贪婪匹配与非贪婪匹配的问题了。在贪婪匹配下，.*会匹配尽可能多的字符。正则表达式中.*后面是\\d+，也就是至少一个数字，并没有指定具体多少个数字，因此，.*就尽可能匹配多的字符，这里就把123456匹配了，给\\d+留下一个可满足条件的数字7，最后得到的内容就只有数字7了 \n",
    "\n",
    "但这很明显会给我们带来很大的不便。有时候，匹配结果会莫名其妙少了一部分内容。其实，这里只需要使用非贪婪匹配就好了。非贪婪匹配的写法是.*？"
   ]
  },
  {
   "cell_type": "code",
   "execution_count": 9,
   "metadata": {},
   "outputs": [
    {
     "name": "stdout",
     "output_type": "stream",
     "text": [
      "<re.Match object; span=(0, 40), match='Hello 1234567 World_This is a Regex Demo'>\n",
      "1234567\n"
     ]
    }
   ],
   "source": [
    "import re\n",
    "\n",
    "content = 'Hello 1234567 World_This is a Regex Demo'\n",
    "result = re.match('^He.*?(\\d+).*Demo$', content)\n",
    "print(result)\n",
    "print(result.group(1))"
   ]
  },
  {
   "cell_type": "markdown",
   "metadata": {},
   "source": [
    "此时就可以成功获取1234567.原因可想而知，贪婪匹配是尽可能匹配多的字符，非贪婪匹配就是尽可能匹配少的字符。当.*?匹配到Helllo后面到空白字符时，再往后的字符就是数字了，而\\d+恰好可以匹配，那么这里.*?就不再进行匹配，交给\\d+去匹配后面的数字。所以这样.*?匹配尽可能少的字符，\\d+的结果就是1234567了\n",
    "\n",
    "所以说，在做匹配的时候，字符串中间尽量使用非贪婪匹配，也就是用.*?代替.*，以免出现匹配结果缺失的情况  \n",
    "但这里需要注意，如果匹配的结果在字符串结尾，.*?就有可能匹配不到任何内容了，因为它会匹配尽可能少的字符。例如："
   ]
  },
  {
   "cell_type": "code",
   "execution_count": 2,
   "metadata": {},
   "outputs": [
    {
     "name": "stdout",
     "output_type": "stream",
     "text": [
      "result1 \n",
      "result2 kEraCN\n"
     ]
    }
   ],
   "source": [
    "import re\n",
    "\n",
    "content = 'http://weibo.com/comment/kEraCN'\n",
    "result1 = re.match('http.*?comment/(.*?)', content)\n",
    "result2 = re.match('http.*?comment/(.*)', content)\n",
    "print(\"result1\", result1.group(1))\n",
    "print(\"result2\", result2.group(1))"
   ]
  },
  {
   "cell_type": "markdown",
   "metadata": {},
   "source": [
    "可以观察到，.*?没有匹配到任何结果，而.*则尽可能匹配多多内容，成功得到了匹配结果"
   ]
  },
  {
   "cell_type": "markdown",
   "metadata": {},
   "source": [
    "·修饰符  \n",
    "正则表达式可以包含一些可选修饰符来控制匹配的模式。修饰符被指定为一个可选的标志"
   ]
  },
  {
   "cell_type": "code",
   "execution_count": 2,
   "metadata": {},
   "outputs": [
    {
     "name": "stdout",
     "output_type": "stream",
     "text": [
      "1234567\n"
     ]
    }
   ],
   "source": [
    "import re\n",
    "\n",
    "content = '''Hello 1234567 World_This\n",
    "is a Regex Demo\n",
    "'''\n",
    "result = re.match('^He.*?(\\d+).*?Demo$', content, re.S)\n",
    "print(result.group(1))"
   ]
  },
  {
   "cell_type": "markdown",
   "metadata": {},
   "source": [
    "当遇到字符串里有换行符的时候，就需要在match()里加上修饰符re.S，这是因为.匹配的是除了换行符之外的任意字符。  \n",
    "这个修饰符的作用是使.匹配包括换行符在内的所有字符。  \n",
    "这个re.S在网页匹配中经常会用到。因为HTML节点经常会有换行，加上它，就可以匹配节点与节点之间的换行了。  \n",
    "另外还有别的修饰符  \n",
    "\n",
    "|修饰符|描述|\n",
    "| -- | -- |\n",
    "|re.I|使匹配对大小写不敏感  |\n",
    "|re.L|做本地化识别(locale-aware)匹配|\n",
    "|re.M|多行匹配，影响^和$  |\n",
    "|re.S|使.匹配包括换行在内的所有字符|\n",
    "|re.U|根据Unicode字符集解析字符。这个标志影响\\w、\\W、\\b和\\B  |\n",
    "|re.X|该标志通过给予你更灵活的格式以便你将正则表达式写得更易于理解| "
   ]
  },
  {
   "cell_type": "markdown",
   "metadata": {},
   "source": [
    "* 转义匹配 \n",
    "\n",
    "我们知道正则表达式定义了许多匹配模式，如.匹配除换行符以外的任意字符，但是如果目标字符串里就包括.，那就需要转义匹配"
   ]
  },
  {
   "cell_type": "code",
   "execution_count": 3,
   "metadata": {},
   "outputs": [
    {
     "name": "stdout",
     "output_type": "stream",
     "text": [
      "<re.Match object; span=(0, 17), match='(百度)www.baidu.com'>\n"
     ]
    }
   ],
   "source": [
    "import re\n",
    "\n",
    "content = '(百度)www.baidu.com'\n",
    "result = re.match('\\(百度\\)www\\.baidu\\.com', content)\n",
    "print(result)"
   ]
  },
  {
   "cell_type": "markdown",
   "metadata": {},
   "source": [
    "当遇到用于正则匹配模式的特殊字符时，在前面加反斜线转义一下即可。 "
   ]
  },
  {
   "cell_type": "markdown",
   "metadata": {},
   "source": [
    "### 3.search()\n",
    "    前面提到过，match()方法是从字符串的开头开始匹配的，一旦开头不匹配，那么整个匹配就失败了"
   ]
  },
  {
   "cell_type": "code",
   "execution_count": 1,
   "metadata": {},
   "outputs": [
    {
     "name": "stdout",
     "output_type": "stream",
     "text": [
      "<re.Match object; span=(14, 50), match='Hello 1234567 World_This is Regex De'>\n"
     ]
    }
   ],
   "source": [
    "import re\n",
    "\n",
    "content = 'Extra strings Hello 1234567 World_This is Regex Demo Extra strings'\n",
    "result = re.search('Hello.*?De', content)\n",
    "print(result)"
   ]
  },
  {
   "cell_type": "markdown",
   "metadata": {},
   "source": [
    "因为match()方法在使用时需要考虑开头的内容，这在做匹配时并不方便。它更适合用来检测某个字符串是否符合某个正则表达式的规则  \n",
    "这里就有另外一个方法search(),它在匹配时会扫描整个字符串，然后返回第一个成功匹配的结果。\n",
    "\n",
    "因此，为了方便匹配，我们可以尽量使用search()方法的用法"
   ]
  },
  {
   "cell_type": "code",
   "execution_count": 8,
   "metadata": {},
   "outputs": [],
   "source": [
    "html = '''<div id=\"song-list\">\n",
    "<h2 class=\"title\">流行歌曲</h2>\n",
    "<p class=\"introduction\">\n",
    "流行歌曲列表\n",
    "</p>\n",
    "<ul id=\"list\" class=\"list-group\">\n",
    "<li data-view=\"2\">一路向北</li>\n",
    "<li data-view=\"7\">\n",
    "<a href=\"/2.mp3\" single=\"周杰伦\">晴天</a>\n",
    "</li>\n",
    "<li data-view=\"4\" class=\"active\">\n",
    "<a href=\"/3.mp3\" single=\"林俊杰\">背对背拥抱</a>\n",
    "</li>\n",
    "<li data-view=\"6\"><a href=\"/4.mp3\" single=\"毛不易\">像我这样的人</a></li>\n",
    "<li data-view=\"5\"><a href=\"/5.mp3\" single=\"林宥嘉\">成全</a></li>\n",
    "<li data-view=\"5\">\n",
    "<a href=\"/6.mp3\" single=\"五月天\">因为你所以我</a>\n",
    "</li>\n",
    "</ul>\n",
    "</div>'''"
   ]
  },
  {
   "cell_type": "code",
   "execution_count": 10,
   "metadata": {},
   "outputs": [
    {
     "name": "stdout",
     "output_type": "stream",
     "text": [
      "林俊杰 背对背拥抱\n"
     ]
    }
   ],
   "source": [
    "import re\n",
    "result = re.search('<li.*?active.*?single=\"(.*?)\">(.*?)</a>', html, re.S)\n",
    "if result:\n",
    "    print(result.group(1), result.group(2))\n",
    "    "
   ]
  },
  {
   "cell_type": "code",
   "execution_count": 11,
   "metadata": {},
   "outputs": [
    {
     "name": "stdout",
     "output_type": "stream",
     "text": [
      "毛不易 像我这样的人\n"
     ]
    }
   ],
   "source": [
    "#去掉active\n",
    "result = re.search('<li.*?single=\"(.*?)\">(.*?)</a>', html)\n",
    "if result:\n",
    "    print(result.group(1), result.group(2))"
   ]
  },
  {
   "cell_type": "markdown",
   "metadata": {},
   "source": [
    "由于绝大部分的HTML文本都包含了换行符，所以尽量都需要加上re.S修饰符，以免出现匹配不到的问题"
   ]
  },
  {
   "cell_type": "markdown",
   "metadata": {},
   "source": [
    "### 4.findall()\n",
    "    前面我们介绍了search()方法的用法，它可以返回正则表达式的第一个内容，但是如果想要获取正则表达式的所有内容，就要借助finall()方法。该方法会搜索整个字符串，然后返回匹配正则表达式的所有内容\n",
    "    还是上面的HTML文本，如果想获取所有a节点的超链接、歌手和歌名，就可以将search()方法换成findall()方法。如果有返回结果的话，就是列表类型，所以需要遍历一下来依次获取每组内容"
   ]
  },
  {
   "cell_type": "code",
   "execution_count": 13,
   "metadata": {},
   "outputs": [
    {
     "name": "stdout",
     "output_type": "stream",
     "text": [
      "[('/2.mp3', '周杰伦', '晴天'), ('/3.mp3', '林俊杰', '背对背拥抱'), ('/4.mp3', '毛不易', '像我这样的人'), ('/5.mp3', '林宥嘉', '成全'), ('/6.mp3', '五月天', '因为你所以我')]\n",
      "<class 'list'>\n",
      "('/2.mp3', '周杰伦', '晴天')\n",
      "/2.mp3 周杰伦 晴天\n",
      "('/3.mp3', '林俊杰', '背对背拥抱')\n",
      "/3.mp3 林俊杰 背对背拥抱\n",
      "('/4.mp3', '毛不易', '像我这样的人')\n",
      "/4.mp3 毛不易 像我这样的人\n",
      "('/5.mp3', '林宥嘉', '成全')\n",
      "/5.mp3 林宥嘉 成全\n",
      "('/6.mp3', '五月天', '因为你所以我')\n",
      "/6.mp3 五月天 因为你所以我\n"
     ]
    }
   ],
   "source": [
    "results = re.findall('<li.*?href=\"(.*?)\".*?single=\"(.*?)\">(.*?)</a>', html, re.S)\n",
    "print(results)\n",
    "print(type(results))\n",
    "for result in results:\n",
    "    print(result)\n",
    "    print(result[0], result[1], result[2])"
   ]
  },
  {
   "cell_type": "markdown",
   "metadata": {},
   "source": [
    "可以看到，返回的列表中的每个元素都是元组类型，我们用对应的索引依次取出即可  \n",
    "如果只是获取第一个内容，可以用search()方法。当需要提取多个内容时，可以用findall()方法"
   ]
  },
  {
   "cell_type": "markdown",
   "metadata": {},
   "source": [
    "### 5.sub()\n",
    "    除了使用正则表达式提取信息外，有时候还需要借助它修改文本。比如，想要把一串文本的所有数字都去掉，如果只用字符串的replace()方法，那就太繁琐了，这是可以借助sub()方法。"
   ]
  },
  {
   "cell_type": "code",
   "execution_count": 14,
   "metadata": {},
   "outputs": [
    {
     "name": "stdout",
     "output_type": "stream",
     "text": [
      "akyroiRixLg\n"
     ]
    }
   ],
   "source": [
    "import re \n",
    "\n",
    "content = '54ak54yr5oiR54ix5L2g'\n",
    "content = re.sub('\\d+', '', content)\n",
    "print(content)"
   ]
  },
  {
   "cell_type": "markdown",
   "metadata": {},
   "source": [
    "这里只需要给第一个参数传入\\d+来匹配所有的数字，第二个参数为替换成的字符（如果去掉则赋值为空），第三个参数是原字符串"
   ]
  },
  {
   "cell_type": "code",
   "execution_count": 15,
   "metadata": {},
   "outputs": [
    {
     "name": "stdout",
     "output_type": "stream",
     "text": [
      "一路向北\n",
      "晴天\n",
      "背对背拥抱\n",
      "像我这样的人\n",
      "成全\n",
      "因为你所以我\n"
     ]
    }
   ],
   "source": [
    "#在上面的HTML文本中，如果想获取所有li节点的歌名，直接用正则表达式来提取可能比较麻烦。比如，可以写成这样子\n",
    "results = re.findall('<li.*?>\\s*?(<a.*?)?(\\w+)(</a>)?\\s*?</li>', html, re.S)\n",
    "for result in results:\n",
    "    print(result[1])"
   ]
  },
  {
   "cell_type": "code",
   "execution_count": 20,
   "metadata": {},
   "outputs": [
    {
     "name": "stdout",
     "output_type": "stream",
     "text": [
      "<div id=\"song-list\">\n",
      "<h2 class=\"title\">流行歌曲</h2>\n",
      "<p class=\"introduction\">\n",
      "流行歌曲列表\n",
      "</p>\n",
      "<ul id=\"list\" class=\"list-group\">\n",
      "<li data-view=\"2\">一路向北</li>\n",
      "<li data-view=\"7\">\n",
      "晴天\n",
      "</li>\n",
      "<li data-view=\"4\" class=\"active\">\n",
      "背对背拥抱\n",
      "</li>\n",
      "<li data-view=\"6\">像我这样的人</li>\n",
      "<li data-view=\"5\">成全</li>\n",
      "<li data-view=\"5\">\n",
      "因为你所以我\n",
      "</li>\n",
      "</ul>\n",
      "</div>\n",
      "一路向北\n",
      "晴天\n",
      "背对背拥抱\n",
      "像我这样的人\n",
      "成全\n",
      "因为你所以我\n"
     ]
    }
   ],
   "source": [
    "#此时借助sub()方法就比较简单了。可以先用sub()方法将a节点去掉，只留下文本，\n",
    "# 然后再利用findall()提取就好了\n",
    "html = re.sub('<a.*?>|</a>', '',html)\n",
    "print(html)\n",
    "results = re.findall('<li.*?>(.*?)</li>', html, re.S)\n",
    "for result in results:\n",
    "    print(result.strip())"
   ]
  },
  {
   "cell_type": "markdown",
   "metadata": {},
   "source": [
    "可以看到，a节点经过sub()方法处理后就没有了，然后再通过findall()方法直接提取即可。可以看到，在适当的时候，借助sub()方法可以起到事半功倍的效果"
   ]
  },
  {
   "cell_type": "markdown",
   "metadata": {},
   "source": [
    "### 6.complie()\n",
    "    前面所讲的方法都是用来处理字符串的方法，最后再介绍一下compile()方法，这个方法可以将正则字符串编译成正则表达式对象，以便在以后的匹配中复用。"
   ]
  },
  {
   "cell_type": "code",
   "execution_count": 22,
   "metadata": {},
   "outputs": [
    {
     "name": "stdout",
     "output_type": "stream",
     "text": [
      "2021-4-6  2021-4-7  2021-4-8 \n"
     ]
    }
   ],
   "source": [
    "import re\n",
    "\n",
    "content1 = '2021-4-6 22:00'\n",
    "content2 = '2021-4-7 12:00'\n",
    "content3 = '2021-4-8 20:00'\n",
    "pattern = re.compile('\\d{2}:\\d{2}')\n",
    "result1 = re.sub(pattern, '', content1)\n",
    "result2 = re.sub(pattern, '', content2)\n",
    "result3 = re.sub(pattern, '', content3)\n",
    "print(result1, result2, result3)"
   ]
  },
  {
   "cell_type": "markdown",
   "metadata": {},
   "source": [
    "另外，complie()还可以传入修饰符，例如re.S等修饰符，这样在search()、findall()等方法中就不需要额外传了。所以compile()方法可以说是给正则表达式做了一层封装，以便我们更好地复用"
   ]
  }
 ],
 "metadata": {
  "kernelspec": {
   "display_name": "Python 3",
   "language": "python",
   "name": "python3"
  },
  "language_info": {
   "codemirror_mode": {
    "name": "ipython",
    "version": 3
   },
   "file_extension": ".py",
   "mimetype": "text/x-python",
   "name": "python",
   "nbconvert_exporter": "python",
   "pygments_lexer": "ipython3",
   "version": "3.8.5"
  },
  "varInspector": {
   "cols": {
    "lenName": 16,
    "lenType": 16,
    "lenVar": 40
   },
   "kernels_config": {
    "python": {
     "delete_cmd_postfix": "",
     "delete_cmd_prefix": "del ",
     "library": "var_list.py",
     "varRefreshCmd": "print(var_dic_list())"
    },
    "r": {
     "delete_cmd_postfix": ") ",
     "delete_cmd_prefix": "rm(",
     "library": "var_list.r",
     "varRefreshCmd": "cat(var_dic_list()) "
    }
   },
   "types_to_exclude": [
    "module",
    "function",
    "builtin_function_or_method",
    "instance",
    "_Feature"
   ],
   "window_display": false
  }
 },
 "nbformat": 4,
 "nbformat_minor": 4
}
