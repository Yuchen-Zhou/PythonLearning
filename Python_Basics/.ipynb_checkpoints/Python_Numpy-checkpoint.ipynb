{
 "cells": [
  {
   "cell_type": "markdown",
   "metadata": {},
   "source": [
    "# NumPy  Tutorial\n",
    "NumPy(Numerical Python)是Python语言的一个扩展程序，支持大量的维度数组与矩阵运算，此外也针对数组运算提供大量的数学函数库。  \n",
    "NumPy是一个运行速度非常快的数学库，主要用于数组计算，包含：\n",
    "- 一个强大的N维数组对象ndarray\n",
    "- 广播功能函数\n",
    "- 整合C/C++/Fortran代码的工具\n",
    "- 线性代数、傅立叶变换、随机数生成等"
   ]
  },
  {
   "cell_type": "code",
   "execution_count": null,
   "metadata": {},
   "outputs": [],
   "source": [
    "#如果你没有安装NumPy，运行下面这行代码\n",
    "!pip install numpy"
   ]
  },
  {
   "cell_type": "markdown",
   "metadata": {},
   "source": [
    "## NumPy Ndarray对象\n",
    "NumPy最重要的一个特点是其N维数组对象ndarray，它是一系列同类型数据的集合，以0下标为开始进行集合中元素的索引。  \n",
    "ndarray对象是用于存放同类型元素的多维数组。  \n",
    "ndarray中的每个元素在内存中都有相同存储大小的区域。  \n",
    "ndarray内部由以下内容组成：\n",
    "- 一个指向数据（内存或内存映射文件中的一块数据）的指针。\n",
    "- 数据类型或dtype，描述在数组中的固定大小值的格子。 \n",
    "- 一个表示数组形状（shape）的元组，表示各维度大小的元组。 \n",
    "- 一个跨度元组（stride），其中的整数指的是为了前进到当前维度下一个元素需要“跨过”的字节数\n",
    "\n",
    "\n",
    "跨度可以时负数，这样会使数组在内存中向后移动，切片中`obj[::-1]`或`obj[:,::-1]`就是如此。  \n",
    "创建一个ndarray只需要调用NumPy的array函数即可：\n",
    "```python\n",
    "numpy.array(object, dtype=None, copy=True, order=None, subok=False, ndmin=0)\n",
    "```\n",
    "\n",
    "参数说明\n",
    "\n",
    "|名称|描述|\n",
    "|---|---|\n",
    "|object|数组或嵌套的数列|\n",
    "|dtype|数组元素的数据类型，可选|\n",
    "|copy|对象是否需要复制，可选|\n",
    "|order|创建数组的样式，C为行方向，F为列方向，A为任意方向（默认）|\n",
    "|subok|默认返回一个与基类类型一致的数组|\n",
    "|ndmin|指定生成数组的最小维度|"
   ]
  },
  {
   "cell_type": "code",
   "execution_count": null,
   "metadata": {},
   "outputs": [],
   "source": [
    "import numpy as np"
   ]
  },
  {
   "cell_type": "code",
   "execution_count": null,
   "metadata": {},
   "outputs": [],
   "source": []
  }
 ],
 "metadata": {
  "kernelspec": {
   "display_name": "Python 3",
   "language": "python",
   "name": "python3"
  },
  "language_info": {
   "codemirror_mode": {
    "name": "ipython",
    "version": 3
   },
   "file_extension": ".py",
   "mimetype": "text/x-python",
   "name": "python",
   "nbconvert_exporter": "python",
   "pygments_lexer": "ipython3",
   "version": "3.8.5"
  },
  "varInspector": {
   "cols": {
    "lenName": 16,
    "lenType": 16,
    "lenVar": 40
   },
   "kernels_config": {
    "python": {
     "delete_cmd_postfix": "",
     "delete_cmd_prefix": "del ",
     "library": "var_list.py",
     "varRefreshCmd": "print(var_dic_list())"
    },
    "r": {
     "delete_cmd_postfix": ") ",
     "delete_cmd_prefix": "rm(",
     "library": "var_list.r",
     "varRefreshCmd": "cat(var_dic_list()) "
    }
   },
   "types_to_exclude": [
    "module",
    "function",
    "builtin_function_or_method",
    "instance",
    "_Feature"
   ],
   "window_display": false
  }
 },
 "nbformat": 4,
 "nbformat_minor": 4
}
