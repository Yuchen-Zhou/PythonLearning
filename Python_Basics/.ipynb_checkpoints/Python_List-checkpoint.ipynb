{
 "cells": [
  {
   "cell_type": "markdown",
   "metadata": {},
   "source": [
    "# Python 列表(List)详解\n",
    "* 序列是Python中最基本的数据结构。\n",
    "* 序列中的每个值都有对应的位置值，称之为索引，第一个索引是 0，第二个索引是 1，依此类推。\n",
    "* Python有6个序列的内置类型，但最常见的是列表和元组。\n",
    "* 列表都可以进行的操作包括索引，切片，加，乘，检查成员。\n",
    "* 此外，Python 已经内置确定序列的长度以及确定最大和最小的元素的方法。\n",
    "* 列表是最常用的 Python 数据类型，它可以作为一个方括号内的逗号分隔值出现。\n",
    "* 列表的数据项不需要具有相同的类型\n",
    "* 创建一个列表，只要把逗号分隔的不同的数据项使用方括号括起来即可。"
   ]
  },
  {
   "cell_type": "code",
   "execution_count": 13,
   "metadata": {},
   "outputs": [
    {
     "name": "stdout",
     "output_type": "stream",
     "text": [
      "['Google', 'Runoob', 1997, 2000]\n",
      "[1, 2, 3, 4, 5]\n",
      "['a', 'b', 'c', 'd']\n",
      "['red', 'green', 'blue', 'yellow', 'white', 'black']\n"
     ]
    }
   ],
   "source": [
    "list1 = ['Google', 'Runoob', 1997, 2000]\n",
    "list2 = [1, 2, 3, 4, 5 ]\n",
    "list3 = [\"a\", \"b\", \"c\", \"d\"]\n",
    "list4 = ['red', 'green', 'blue', 'yellow', 'white', 'black']\n",
    "\n",
    "print(list1)\n",
    "print(list2)\n",
    "print(list3)\n",
    "print(list4)"
   ]
  },
  {
   "cell_type": "markdown",
   "metadata": {},
   "source": [
    "## 访问列表中的值\n",
    "* 与字符串的索引一样，列表索引从 0 开始，第二个索引是 1，依此类推。\n",
    "* 通过索引列表可以进行截取、组合等操作。\n",
    "* 与字符串的索引一样，列表索引从0开始。列表可以进行截取、组合等。\n",
    "\n",
    "<img src = '../pics/list.png' width=60%>"
   ]
  },
  {
   "cell_type": "code",
   "execution_count": 14,
   "metadata": {},
   "outputs": [
    {
     "name": "stdout",
     "output_type": "stream",
     "text": [
      "red\n",
      "green\n",
      "blue\n"
     ]
    }
   ],
   "source": [
    "list = ['red', 'green', 'blue', 'yellow', 'white', 'black']\n",
    "print( list[0] )\n",
    "print( list[1] )\n",
    "print( list[2] )"
   ]
  },
  {
   "cell_type": "markdown",
   "metadata": {},
   "source": [
    "- 索引也可以从尾部开始，最后一个元素的索引为 -1，往前一位为 -2，以此类推。\n",
    "<img src='../pics/list2.png' width=50%>"
   ]
  },
  {
   "cell_type": "code",
   "execution_count": 15,
   "metadata": {},
   "outputs": [
    {
     "name": "stdout",
     "output_type": "stream",
     "text": [
      "black\n",
      "white\n",
      "yellow\n"
     ]
    }
   ],
   "source": [
    "list = ['red', 'green', 'blue', 'yellow', 'white', 'black']\n",
    "print( list[-1] )\n",
    "print( list[-2] )\n",
    "print( list[-3] )"
   ]
  },
  {
   "cell_type": "markdown",
   "metadata": {},
   "source": [
    "- 使用下标索引来访问列表中的值，同样你也可以使用方括号 [] 的形式截取字符，如下所示：\n",
    "<img src = '../pics/list3.png' width=50%>"
   ]
  },
  {
   "cell_type": "code",
   "execution_count": 16,
   "metadata": {},
   "outputs": [
    {
     "name": "stdout",
     "output_type": "stream",
     "text": [
      "[10, 20, 30, 40]\n"
     ]
    }
   ],
   "source": [
    "nums = [10, 20, 30, 40, 50, 60, 70, 80, 90]\n",
    "print(nums[0:4])"
   ]
  },
  {
   "cell_type": "markdown",
   "metadata": {},
   "source": [
    "- 使用负数索引值截取："
   ]
  },
  {
   "cell_type": "code",
   "execution_count": 17,
   "metadata": {},
   "outputs": [
    {
     "name": "stdout",
     "output_type": "stream",
     "text": [
      "list[1]:  Runoob\n",
      "list[1:-2]:  ['Runoob', 'Zhihu']\n"
     ]
    }
   ],
   "source": [
    "list = ['Google', 'Runoob', \"Zhihu\", \"Taobao\", \"Wiki\"]\n",
    "# 读取第二位\n",
    "print (\"list[1]: \", list[1])\n",
    "# 从第二位开始（包含）截取到倒数第二位（不包含）\n",
    "print (\"list[1:-2]: \", list[1:-2])"
   ]
  },
  {
   "cell_type": "markdown",
   "metadata": {},
   "source": [
    "## 更新列表\n",
    "- 你可以对列表的数据项进行修改或更新，你也可以使用 append() 方法来添加列表项，如下所示："
   ]
  },
  {
   "cell_type": "code",
   "execution_count": 18,
   "metadata": {},
   "outputs": [
    {
     "name": "stdout",
     "output_type": "stream",
     "text": [
      "第三个元素为 :  1997\n",
      "更新后的第三个元素为 :  2001\n",
      "更新后的列表 :  ['Google', 'Runoob', 'Taobao', 'Baidu']\n"
     ]
    }
   ],
   "source": [
    "list = ['Google', 'Runoob', 1997, 2000]\n",
    "print (\"第三个元素为 : \", list[2])\n",
    "\n",
    "list[2] = 2001\n",
    "print (\"更新后的第三个元素为 : \", list[2])\n",
    " \n",
    "list1 = ['Google', 'Runoob', 'Taobao']\n",
    "list1.append('Baidu')\n",
    "print (\"更新后的列表 : \", list1)"
   ]
  },
  {
   "cell_type": "markdown",
   "metadata": {},
   "source": [
    "## 删除列表元素\n",
    "- 可以使用 del 语句来删除列表的的元素"
   ]
  },
  {
   "cell_type": "code",
   "execution_count": 19,
   "metadata": {},
   "outputs": [
    {
     "name": "stdout",
     "output_type": "stream",
     "text": [
      "原始列表 :  ['Google', 'Runoob', 1997, 2000]\n",
      "删除第三个元素 :  ['Google', 'Runoob', 2000]\n"
     ]
    }
   ],
   "source": [
    "list = ['Google', 'Runoob', 1997, 2000]\n",
    " \n",
    "print (\"原始列表 : \", list)\n",
    "del list[2]\n",
    "print (\"删除第三个元素 : \", list)"
   ]
  },
  {
   "cell_type": "markdown",
   "metadata": {},
   "source": [
    "## Python列表脚本操作符\n",
    "- 列表对 + 和 * 的操作符与字符串相似。+ 号用于组合列表，* 号用于重复列表。\n",
    "\n",
    "\n",
    "|Python表达式|结果|描述|\n",
    "|--|--|--|\n",
    "|len([1, 2, 3])|3|长度|\n",
    "|[1, 2, 3] + [4, 5, 6]|[1, 2, 3, 4, 5, 6]|组合|\n",
    "|['Hi!'] * 4|['Hi!', 'Hi!', 'Hi!', 'Hi!']|重复|\n",
    "|3 in [1, 2, 3]|True|元素是否存在于列表中|\n",
    "|for x in [1, 2, 3]: print(x, end=\" \")|1 2 3|迭代|"
   ]
  },
  {
   "cell_type": "markdown",
   "metadata": {},
   "source": [
    "## Python列表截取与拼接\n",
    "- Python的列表截取与字符串操作类型，如下所示：\n",
    "```python\n",
    "L=['Google', 'Runoob', 'Taobao']  \n",
    "```\n",
    "\n",
    "|Python表达式|结果|描述|\n",
    "|--|--|--|\n",
    "|L[2]|'Taobao'|读取第三个元素|\n",
    "|L[-2]|'Runoob'|从右侧开始读取倒数第二个元素: count from the right|\n",
    "|L[1:]|['Runoob', 'Taobao']|输出从第二个元素开始后的所有元素|"
   ]
  },
  {
   "cell_type": "code",
   "execution_count": 20,
   "metadata": {},
   "outputs": [],
   "source": [
    "L=['Google', 'Runoob', 'Taobao'] "
   ]
  },
  {
   "cell_type": "code",
   "execution_count": 21,
   "metadata": {},
   "outputs": [
    {
     "name": "stdout",
     "output_type": "stream",
     "text": [
      "Taobao\n",
      "Runoob\n",
      "['Runoob', 'Taobao']\n"
     ]
    }
   ],
   "source": [
    "print(L[2])\n",
    "print(L[-2])\n",
    "print(L[1:])"
   ]
  },
  {
   "cell_type": "markdown",
   "metadata": {},
   "source": [
    "- 列表还支持拼接操作："
   ]
  },
  {
   "cell_type": "code",
   "execution_count": 22,
   "metadata": {},
   "outputs": [
    {
     "data": {
      "text/plain": [
       "[1, 4, 9, 16, 25, 36, 49, 64, 81, 100]"
      ]
     },
     "execution_count": 22,
     "metadata": {},
     "output_type": "execute_result"
    }
   ],
   "source": [
    "squares = [1, 4, 9, 16, 25]\n",
    "squares += [36, 49, 64, 81, 100]\n",
    "squares"
   ]
  },
  {
   "cell_type": "markdown",
   "metadata": {},
   "source": [
    "## 嵌套列表\n",
    "- 使用嵌套列表即在列表里创建其它列表，例如："
   ]
  },
  {
   "cell_type": "code",
   "execution_count": 23,
   "metadata": {},
   "outputs": [],
   "source": [
    "a = ['a', 'b', 'c']  \n",
    "n = [1, 2, 3]  \n",
    "x = [a, n]  "
   ]
  },
  {
   "cell_type": "code",
   "execution_count": 24,
   "metadata": {},
   "outputs": [
    {
     "name": "stdout",
     "output_type": "stream",
     "text": [
      "[['a', 'b', 'c'], [1, 2, 3]]\n",
      "['a', 'b', 'c']\n",
      "b\n"
     ]
    }
   ],
   "source": [
    "print(x)\n",
    "print(x[0])\n",
    "print(x[0][1])"
   ]
  },
  {
   "cell_type": "markdown",
   "metadata": {},
   "source": [
    "## Python列表函数&方法"
   ]
  },
  {
   "cell_type": "markdown",
   "metadata": {},
   "source": [
    "- Python包含以下函数:\n",
    "\n",
    "|序号|函数|具体描述|\n",
    "|--|--|--|\n",
    "|1|len(list)|列表元素个数|\n",
    "|2|max(list)|返回列表元素最大值|\n",
    "|3|min(list)|返回列表元素最小值|\n",
    "|4|list(seq)|将元组转换为列表|\n",
    "\n",
    "\n",
    "\n",
    "- Python包含以下方法:\n",
    "|序号|方法|具体描述|\n",
    "|--|--|--|\n",
    "|1|list.append(obj)|在列表末尾添加新的对象|\n",
    "|2|list.count(obj)|统计某个元素在列表中出现的次数|\n",
    "|3|list.extend(seq)|在列表末尾一次性追加另一个序列中的多个值（用新列表扩展原来的列表）|\n",
    "|4|list.index(obj)|从列表中找出某个值第一个匹配项的索引位置|\n",
    "|5|list.insert(index, obj)|将对象插入列表|\n",
    "|6|list.pop([index=-1])|移除列表中的一个元素（默认最后一个元素），并且返回该元素的值|\n",
    "|7|list.remove(obj)|移除列表中某个值的第一个匹配项|\n",
    "|8|list.reverse()|反向列表中元素|\n",
    "|9|list.sort(key=None, reverse=False)|对原列表进行排序|\n",
    "|10|list.clear()|清空列表|\n",
    "|11|list.copy()|复制列表|"
   ]
  }
 ],
 "metadata": {
  "kernelspec": {
   "display_name": "Python 3",
   "language": "python",
   "name": "python3"
  },
  "language_info": {
   "codemirror_mode": {
    "name": "ipython",
    "version": 3
   },
   "file_extension": ".py",
   "mimetype": "text/x-python",
   "name": "python",
   "nbconvert_exporter": "python",
   "pygments_lexer": "ipython3",
   "version": "3.8.5"
  },
  "varInspector": {
   "cols": {
    "lenName": 16,
    "lenType": 16,
    "lenVar": 40
   },
   "kernels_config": {
    "python": {
     "delete_cmd_postfix": "",
     "delete_cmd_prefix": "del ",
     "library": "var_list.py",
     "varRefreshCmd": "print(var_dic_list())"
    },
    "r": {
     "delete_cmd_postfix": ") ",
     "delete_cmd_prefix": "rm(",
     "library": "var_list.r",
     "varRefreshCmd": "cat(var_dic_list()) "
    }
   },
   "types_to_exclude": [
    "module",
    "function",
    "builtin_function_or_method",
    "instance",
    "_Feature"
   ],
   "window_display": false
  }
 },
 "nbformat": 4,
 "nbformat_minor": 5
}
