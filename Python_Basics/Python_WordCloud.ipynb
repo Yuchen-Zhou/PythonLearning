{
 "cells": [
  {
   "cell_type": "markdown",
   "metadata": {},
   "source": [
    "# jieba库的使用\n",
    "## jieba库基本介绍  \n",
    "### jieba概述  \n",
    "- 中文文本需要通过分词获得单个的词语\n",
    "- jieba是优秀的中文分词第三方库，需要额外安装\n",
    "- jieba库提供三种分词模式，最简单只需要掌握一个函数  "
   ]
  },
  {
   "cell_type": "code",
   "execution_count": null,
   "metadata": {},
   "outputs": [],
   "source": [
    "!pip install jieba"
   ]
  },
  {
   "cell_type": "markdown",
   "metadata": {},
   "source": [
    "### jieba分词的原理\n",
    "- 利用一个中文词库，确定中文字符之间的关联概率\n",
    "- 中文字符间概率大的组成词组，形成分词结果  \n",
    "- 除了分词，用户还可以添加自定义的词组\n",
    "\n",
    "## jieba库使用说明\n",
    "### jieba分词的三种模式  \n",
    "- 精确模式：把文本精确的切分开，不存在冗余单词  \n",
    "- 全模式：把文本中所有可能的词语都扫描出来，有冗余  \n",
    "- 搜索引擎模式：在精确"
   ]
  }
 ],
 "metadata": {
  "kernelspec": {
   "display_name": "Python 3",
   "language": "python",
   "name": "python3"
  },
  "language_info": {
   "codemirror_mode": {
    "name": "ipython",
    "version": 3
   },
   "file_extension": ".py",
   "mimetype": "text/x-python",
   "name": "python",
   "nbconvert_exporter": "python",
   "pygments_lexer": "ipython3",
   "version": "3.8.5"
  },
  "varInspector": {
   "cols": {
    "lenName": 16,
    "lenType": 16,
    "lenVar": 40
   },
   "kernels_config": {
    "python": {
     "delete_cmd_postfix": "",
     "delete_cmd_prefix": "del ",
     "library": "var_list.py",
     "varRefreshCmd": "print(var_dic_list())"
    },
    "r": {
     "delete_cmd_postfix": ") ",
     "delete_cmd_prefix": "rm(",
     "library": "var_list.r",
     "varRefreshCmd": "cat(var_dic_list()) "
    }
   },
   "types_to_exclude": [
    "module",
    "function",
    "builtin_function_or_method",
    "instance",
    "_Feature"
   ],
   "window_display": false
  }
 },
 "nbformat": 4,
 "nbformat_minor": 4
}
