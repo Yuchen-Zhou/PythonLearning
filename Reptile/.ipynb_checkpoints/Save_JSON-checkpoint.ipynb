{
 "cells": [
  {
   "cell_type": "markdown",
   "metadata": {},
   "source": [
    "# JSON文件存储\n",
    "    JSON，全称为JavaScript Object Notation，也就是JavaScript对象标记，它通过对象和数组的组合来表示数据，构造简洁但是结构化程度非常高，是一种轻量级的数据交换格式。本节中，我们就来了解如何利用Python保存数据到JSON文件"
   ]
  },
  {
   "cell_type": "markdown",
   "metadata": {},
   "source": [
    "## 一、对象和数组\n",
    "        \n",
    "在JavaScript语言中，一切都是对象。因此，任何支持的类型都可以通过JSON来表示，例如字符串、数字、对象、数组等，但是对象和数组是比较特殊且常用的两种类型，下面简要介绍一下  \n",
    "- 对象：它在JavaScript中是使用花括号{}包裹起来的内容，数据结构为{key1: value1, key2: value2,...}的键值对结构。在面向对象的语言，key为对象的属性，value为对应的值。键名可以使用整数和字符串来表示。值的类型可以是任意类型  \n",
    "- 数组：数组在JavaScript中是方括号[]包裹起来的内容，数据结构为[\"java\", \"javascript\", \"vb\", ...]的索引结构。在JavaScript中，数组是一种比较特殊的数据类型，它也可以像对象那样使用键值对，但还是索引用得多。同样，值的类型可以是任意类型。\n",
    "     \n",
    "所以，一个JSON对象可以写成如下形式：  \n",
    "[{  \n",
    "    \"name\": \"Bob\",  \n",
    "    \"gender\": \"male\",  \n",
    "    \"birthday\": \"1992-10-18\"  \n",
    "}, {  \n",
    "    \"name\": \"Selina\",  \n",
    "    \"gender\": \"female\",  \n",
    "    \"birthday\": \"1995-10-18\"  \n",
    "]  \n",
    "    由中括号包围的就相当于列表类型，列表中的每个元素可以是任意类型，这个示例中它是字典类型，由大括号包围  \n",
    "    JSON可以由以上两种形式自由组合形成，可以无限次嵌套，结构清晰，是数据交换的极佳方式"
   ]
  },
  {
   "cell_type": "markdown",
   "metadata": {},
   "source": [
    "## 二、读取JSON\n",
    "\n",
    "Python为我们提供了简单易用的JSON库来实现JSON文件的读写操作，我们可以调用JSON库的loads()方法将JSON文本字符串转化为JSON对象，可以通过dumps()方法将JSON对象转化为文本字符串"
   ]
  },
  {
   "cell_type": "code",
   "execution_count": 1,
   "metadata": {},
   "outputs": [
    {
     "name": "stdout",
     "output_type": "stream",
     "text": [
      "<class 'str'>\n",
      "[{'name': 'Bob', 'gender': 'male', 'birthday': '1992-10-18'}, {'name': 'Selina', 'gender': 'female', 'birthday': '1995-10-18'}]\n",
      "<class 'list'>\n"
     ]
    }
   ],
   "source": [
    "#例如，这里有一段JSON形式的字符串，它是str类型，我们用Python将其转换为可操作的数据结构，如字典或列表\n",
    "import json\n",
    "str = \"\"\"\n",
    "[{\n",
    "    \"name\": \"Bob\",\n",
    "    \"gender\": \"male\",\n",
    "    \"birthday\": \"1992-10-18\"\n",
    "}, {\n",
    "    \"name\": \"Selina\",\n",
    "    \"gender\": \"female\",\n",
    "    \"birthday\": \"1995-10-18\"\n",
    "}]\n",
    "\"\"\"\n",
    "print(type(str))\n",
    "data = json.loads(str)\n",
    "print(data)\n",
    "print(type(data))"
   ]
  },
  {
   "cell_type": "markdown",
   "metadata": {},
   "source": [
    "这里使用loads()方法将字符串转化为JSON对象。由于最外层是中括号，所以最终的类型是列表类型"
   ]
  },
  {
   "cell_type": "code",
   "execution_count": 2,
   "metadata": {},
   "outputs": [
    {
     "data": {
      "text/plain": [
       "'Bob'"
      ]
     },
     "execution_count": 2,
     "metadata": {},
     "output_type": "execute_result"
    }
   ],
   "source": [
    "#这样一来，我们就可以用索引来获取对应的内容。例如，如果想获取第一个元素里的name属性，就可以使用如下方式\n",
    "data[0]['name']\n",
    "data[0].get('name')"
   ]
  },
  {
   "cell_type": "markdown",
   "metadata": {},
   "source": [
    "通过中括号加0索引，可以得到第一个字典元素，然后再调用其键值。获取键值时有两种方式，一种时中括号加键名，另一种时通过get()方法传入键名。这里推荐使用get()方法，这样如果键名不存在，则不会报错，会什么都不返回。  \n",
    "\n",
    "另外，get()方法还可以传入第二个参数（即默认值）"
   ]
  },
  {
   "cell_type": "code",
   "execution_count": 3,
   "metadata": {},
   "outputs": [
    {
     "data": {
      "text/plain": [
       "25"
      ]
     },
     "execution_count": 3,
     "metadata": {},
     "output_type": "execute_result"
    }
   ],
   "source": [
    "data[0].get('age')\n",
    "data[0].get('age', 25)"
   ]
  },
  {
   "cell_type": "markdown",
   "metadata": {},
   "source": [
    "如果从JSON文本中读取内容，例如这里有一个data.json文本文件，其内容是刚才定义的JSON字符串，我们可以先将文本文件内容读取出，再利用loads()方法转化"
   ]
  },
  {
   "cell_type": "code",
   "execution_count": 10,
   "metadata": {},
   "outputs": [
    {
     "name": "stdout",
     "output_type": "stream",
     "text": [
      "[{'name': 'Bob', 'gender': 'male', 'birthday': '1992-10-18'}, {'name': 'Selina', 'gender': 'female', 'birthday': '1995-10-18'}]\n"
     ]
    }
   ],
   "source": [
    "import json\n",
    "\n",
    "with open('data.json', 'r') as file:\n",
    "    str = file.read()\n",
    "    data = json.loads(str)\n",
    "    print(data)"
   ]
  },
  {
   "cell_type": "markdown",
   "metadata": {},
   "source": [
    "## 三、输出JSON\n",
    "        我们还可以调用dumps()方法将JSON对象转化为字符串。"
   ]
  },
  {
   "cell_type": "code",
   "execution_count": 11,
   "metadata": {},
   "outputs": [],
   "source": [
    "#将上例中的列表重新写入文本\n",
    "data = [{\n",
    "    \"name\": \"Bob\",\n",
    "    \"gender\": \"male\",\n",
    "    \"birthday\": \"1992-10-18\"\n",
    "}, {\n",
    "    \"name\": \"Selina\",\n",
    "    \"gender\": \"female\",\n",
    "    \"birthday\": \"1995-10-18\"\n",
    "}]\n",
    "with open('data.json', 'w') as file:\n",
    "    file.write(json.dumps(data))"
   ]
  },
  {
   "cell_type": "markdown",
   "metadata": {},
   "source": [
    "另外，如果想保存JSON的格式，可以再加一个参数indent，代表缩进字符个数。"
   ]
  },
  {
   "cell_type": "code",
   "execution_count": 12,
   "metadata": {},
   "outputs": [],
   "source": [
    "with open('data.json', 'w') as file:\n",
    "    file.write(json.dumps(data, indent=2))"
   ]
  },
  {
   "cell_type": "markdown",
   "metadata": {},
   "source": [
    "这样得到的内容会自动带缩进，格式会更加清晰  \n",
    "\n",
    "另外，如果JSON中包含中文字符，会怎么样？我们将之前的JSON的部分值改为中文，再用之前的方法写入到文本："
   ]
  },
  {
   "cell_type": "code",
   "execution_count": 14,
   "metadata": {},
   "outputs": [],
   "source": [
    "import json\n",
    "\n",
    "data = [{\n",
    "    'name': '王伟',\n",
    "    'gender': '男',\n",
    "    'birthday': '1992-10-18'\n",
    "}]\n",
    "with open('data.json', 'w') as file:\n",
    "    file.write(json.dumps(data, indent=2))"
   ]
  },
  {
   "cell_type": "markdown",
   "metadata": {},
   "source": [
    "可以看到，中文字符都变成了Unicode字符，这并不是我们想要的结果"
   ]
  },
  {
   "cell_type": "code",
   "execution_count": 16,
   "metadata": {},
   "outputs": [],
   "source": [
    "#为了输出中文，还需要指定参数ensure_ascii为False，另外还要规定文件输出的编码\n",
    "with open('data.json', 'w', encoding='utf-8') as file:\n",
    "    file.write(json.dumps(data, indent=2, ensure_ascii=False))"
   ]
  },
  {
   "cell_type": "markdown",
   "metadata": {},
   "source": [
    "可以发现，这样就可以输出JSON为中文了"
   ]
  },
  {
   "cell_type": "markdown",
   "metadata": {},
   "source": [
    "本节中，我们了解了Python进行了JSON文件读写的方法，后面做数据解析时经常会用到，建议熟练掌握"
   ]
  }
 ],
 "metadata": {
  "kernelspec": {
   "display_name": "Python 3",
   "language": "python",
   "name": "python3"
  },
  "language_info": {
   "codemirror_mode": {
    "name": "ipython",
    "version": 3
   },
   "file_extension": ".py",
   "mimetype": "text/x-python",
   "name": "python",
   "nbconvert_exporter": "python",
   "pygments_lexer": "ipython3",
   "version": "3.8.5"
  },
  "latex_envs": {
   "LaTeX_envs_menu_present": true,
   "autoclose": false,
   "autocomplete": true,
   "bibliofile": "biblio.bib",
   "cite_by": "apalike",
   "current_citInitial": 1,
   "eqLabelWithNumbers": true,
   "eqNumInitial": 1,
   "hotkeys": {
    "equation": "Ctrl-E",
    "itemize": "Ctrl-I"
   },
   "labels_anchors": false,
   "latex_user_defs": false,
   "report_style_numbering": false,
   "user_envs_cfg": false
  },
  "toc": {
   "base_numbering": 1,
   "nav_menu": {},
   "number_sections": true,
   "sideBar": true,
   "skip_h1_title": false,
   "title_cell": "Table of Contents",
   "title_sidebar": "Contents",
   "toc_cell": false,
   "toc_position": {},
   "toc_section_display": true,
   "toc_window_display": false
  },
  "varInspector": {
   "cols": {
    "lenName": 16,
    "lenType": 16,
    "lenVar": 40
   },
   "kernels_config": {
    "python": {
     "delete_cmd_postfix": "",
     "delete_cmd_prefix": "del ",
     "library": "var_list.py",
     "varRefreshCmd": "print(var_dic_list())"
    },
    "r": {
     "delete_cmd_postfix": ") ",
     "delete_cmd_prefix": "rm(",
     "library": "var_list.r",
     "varRefreshCmd": "cat(var_dic_list()) "
    }
   },
   "types_to_exclude": [
    "module",
    "function",
    "builtin_function_or_method",
    "instance",
    "_Feature"
   ],
   "window_display": false
  }
 },
 "nbformat": 4,
 "nbformat_minor": 4
}
