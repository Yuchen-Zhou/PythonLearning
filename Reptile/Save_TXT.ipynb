{
 "cells": [
  {
   "cell_type": "markdown",
   "metadata": {},
   "source": [
    "# TXT文本存储\n",
    "    将数据保存到TXT文本的操作非常简单，而且TXT文本几乎兼容任何平台，但是有个缺点，就是不利于检索。所以如果对检索和数据结构要求不高，追求方便第一的话，可以采用TXT文本存储"
   ]
  },
  {
   "cell_type": "markdown",
   "metadata": {},
   "source": [
    "## 一、本节目标\n",
    "        本节中，我们要保存百度首页上的“百度实时热点排行榜”，将热点的排序、名称以及搜索指数保存成文本形式"
   ]
  },
  {
   "cell_type": "markdown",
   "metadata": {},
   "source": [
    "## 二、基本实例\n",
    "        首先，可以用requests将网页代码获取下来，然后使用解析库解析，接下来将提取的标题、回答者、回答保存到文本"
   ]
  },
  {
   "cell_type": "code",
   "execution_count": 54,
   "metadata": {},
   "outputs": [],
   "source": [
    "import requests\n",
    "from lxml import etree\n",
    "\n",
    "url = 'http://top.baidu.com/buzz?b=1&fr=topindex'\n",
    "headers = {\n",
    "    'User-Agent': 'Mozilla/5.0 (Macintosh; Intel Mac OS X 11_2_3) AppleWebKit/537.36 (KHTML, like Gecko) Chrome/89.0.4389.114 Safari/537.36'   \n",
    "}\n",
    "r = requests.get(url, headers=headers)\n",
    "r.encoding = 'gbk'\n",
    "html = etree.HTML(r.text)\n",
    "HotsNames = html.xpath('//a[@class=\"list-title\"]/text()')\n",
    "SearchPoints = html.xpath('//span[@class=\"icon-rise\"]/text()')\n",
    "for i in range(len(items)):\n",
    "    file = open('HotPoint.txt', 'a', encoding='utf-8')\n",
    "    file.writelines([str(i+1), '\\t', HotsNames[i], '\\t', SearchPoints[i], '\\n'])\n",
    "    file.close()"
   ]
  },
  {
   "cell_type": "markdown",
   "metadata": {},
   "source": [
    "这里主要是为了演示文件保存的方式，因此requests异常处理部分在此省去。首先，用requests提取百度热点榜页面，然后将热点的序号、关键词和搜索指数提取出来，然后利用Python提供的open()方法打开一个文本文件，获取一个文件操作对象，这里赋值为file，接着利用file对象的write()方法将提取的内容写入文件，最后调用close()方法将其关闭，这样抓取的内容即可成功写入文本中了  \n",
    "\n",
    "这里的open()方法的第一个参数即要保存的目标文件，第二个参数为a，代表以追加方式写入到文本。另外，我们还指定了文件编码为utf-8。最好，写入完成后，还需要调用close()方法来关闭文件对象"
   ]
  },
  {
   "cell_type": "markdown",
   "metadata": {},
   "source": [
    "## 三、打开方式\n",
    "         在刚才的实例中，open()方法的第二个参数设置成了a，这样在每次写入文件时不会清空源文件，而是在文件末尾写入新的内容，这是一种文件打开方式。关于文件的打开方式，其实还有其他几种：  \n",
    "    ·r:以只读方式打开文件。文件的指针将会放在文件的开头。这是默认模式  \n",
    "    ·rb:以二进制只读方式打开一个文件。文件的指针将会放在文件的开头\n",
    "    ·r+:以读写方式打开一个文件。文件的指针将会放在文件的开头\n",
    "    ·rb+:以二进制读写方式打开一个文件。文件的指针将会放在文件的开头\n",
    "    ·w:以写入方式打开一个文件。如果文件已存在，则将其覆盖。\n",
    "    ·wb:以二进制写入方式打开一个文件。如果文件已存在，则将其覆盖。\n",
    "    ·w+:以读写方式打开一个文件。如果文件已存在，则将其覆盖。\n",
    "    ·wb+:以二进制读写方式打开一个文件。如果文件已存在，则将其覆盖\n",
    "    ·a:以追加方式打开一个文件。如果该文件已存在，文件指针将会放在文件末尾。也就是说，新的内容会被写入到已有内容之后。如果文件不存在，则创建新文件来写入\n",
    "    ·ab:以二进制追加方式打开一个文件。如果该文件已存在，文件指针将会放在文件末尾。也就是说，新的内容会被写入到已有内容之后。如果文件不存在，则创建新文件来写入\n",
    "    ·a+:以读写方式打开一个文件。如果该文件已存在，文件指针将会放在文件末尾。也就是说，新的内容会被写入到已有内容之后。如果文件不存在，则创建新文件来写入\n",
    "    ·ab+:以二进制读写方式打开一个文件。如果该文件已存在，文件指针将会放在文件末尾。也就是说，新的内容会被写入到已有内容之后。如果文件不存在，则创建新文件来写入"
   ]
  },
  {
   "cell_type": "markdown",
   "metadata": {},
   "source": [
    "## 四、简化写法\n",
    "    另外，文件写入还有一种写法，那就是使用with as语法。在with控制块结束时，文件为自动关闭，所以就不要再调用close()方法了"
   ]
  },
  {
   "cell_type": "code",
   "execution_count": 58,
   "metadata": {},
   "outputs": [],
   "source": [
    "#实例\n",
    "with open('FILENAME', 'a', encoding='utf-8') as file:\n",
    "    file.write('something')\n",
    "    file.write('\\n' + '='*50 + '\\n')"
   ]
  },
  {
   "cell_type": "code",
   "execution_count": 60,
   "metadata": {},
   "outputs": [],
   "source": [
    "#如果想保存时将原文清空，那么可以把第二个参数改为w\n",
    "with open('FILENAME', 'w', encoding='utf-8') as file:\n",
    "    file.write('where are my text')\n",
    "    file.write('\\n' + '='*50 + '\\n')"
   ]
  },
  {
   "cell_type": "markdown",
   "metadata": {},
   "source": [
    "上面便是利用Python将结果保存为TXT文件的方法，这种方法简单易用，操作高效，是一种最基本的保存数据的方法"
   ]
  }
 ],
 "metadata": {
  "kernelspec": {
   "display_name": "Python 3",
   "language": "python",
   "name": "python3"
  },
  "language_info": {
   "codemirror_mode": {
    "name": "ipython",
    "version": 3
   },
   "file_extension": ".py",
   "mimetype": "text/x-python",
   "name": "python",
   "nbconvert_exporter": "python",
   "pygments_lexer": "ipython3",
   "version": "3.8.8"
  },
  "toc": {
   "base_numbering": 1,
   "nav_menu": {},
   "number_sections": true,
   "sideBar": true,
   "skip_h1_title": false,
   "title_cell": "Table of Contents",
   "title_sidebar": "Contents",
   "toc_cell": false,
   "toc_position": {},
   "toc_section_display": true,
   "toc_window_display": false
  },
  "varInspector": {
   "cols": {
    "lenName": 16,
    "lenType": 16,
    "lenVar": 40
   },
   "kernels_config": {
    "python": {
     "delete_cmd_postfix": "",
     "delete_cmd_prefix": "del ",
     "library": "var_list.py",
     "varRefreshCmd": "print(var_dic_list())"
    },
    "r": {
     "delete_cmd_postfix": ") ",
     "delete_cmd_prefix": "rm(",
     "library": "var_list.r",
     "varRefreshCmd": "cat(var_dic_list()) "
    }
   },
   "types_to_exclude": [
    "module",
    "function",
    "builtin_function_or_method",
    "instance",
    "_Feature"
   ],
   "window_display": false
  }
 },
 "nbformat": 4,
 "nbformat_minor": 4
}
