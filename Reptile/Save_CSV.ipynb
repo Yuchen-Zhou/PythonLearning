{
 "cells": [
  {
   "cell_type": "markdown",
   "metadata": {},
   "source": [
    "# CSV文件存储"
   ]
  },
  {
   "cell_type": "markdown",
   "metadata": {},
   "source": [
    "    CSV，全称为Comma-Separated Values，中文可以叫作逗号分隔值或字符分割值，其文件以纯文本形式存储表格数据。该文件是一个字符序列，可以由任意数目的记录组成，记录间以某种换行符分隔。每条记录由字段组成，字段间的分隔符是其他字符或字符串，最常见的就是逗号或制表符。不过所有记录都有完全相同的字段序列，相当于一个结构化表的纯文本形式。它比Excel文件更加简洁，XLS文本是电子表格，它包含了文本、数值、公式和格式等内容，而CSV中不包含这些内容，就是特定字符分隔的纯文本，结构简单清晰。所以有时候用CSV来保存数据是比较方便的。本节我们来讲解Python读取和写入CSV文件的过程"
   ]
  },
  {
   "cell_type": "markdown",
   "metadata": {},
   "source": [
    "## 一、写入"
   ]
  },
  {
   "cell_type": "code",
   "execution_count": 4,
   "metadata": {},
   "outputs": [],
   "source": [
    "#这里先看一个最简单的\n",
    "import csv\n",
    "\n",
    "with open('data1.csv', 'w') as cf:\n",
    "    writer = csv.writer(cf)\n",
    "    writer.writerow(['id', 'name', 'age'])\n",
    "    writer.writerow(['10001', 'Mike', '20'])\n",
    "    writer.writerow(['10002', 'Bob', '21'])\n",
    "    writer.writerow(['10003', 'Jordan', '22'])"
   ]
  },
  {
   "cell_type": "markdown",
   "metadata": {},
   "source": [
    "首先，打开data.csv文件，然后指定打开的模式为w（即写入），获得文件句柄，随后调用csv库的writer()方法初始化写入对象，传入该句柄，然后调用writerlow()方法传入每行的数据即可完成写入  \n",
    "\n",
    "运行结束后，会生成一个名为data.csv的文件，此时数据就成功写入了。直接以文本形式打开的话，其实形式如下：  \n",
    "    id,name,age  \n",
    "    10001,Mike,20\n",
    "    10002,Bob,21  \n",
    "    10003,Jordan,22  "
   ]
  },
  {
   "cell_type": "code",
   "execution_count": 5,
   "metadata": {},
   "outputs": [],
   "source": [
    "#如果想修改列与列之间的分隔符，可以传入delimiter参数\n",
    "#这里先看一个最简单的\n",
    "import csv\n",
    "\n",
    "with open('data2.csv', 'w') as cf:\n",
    "    writer = csv.writer(cf, delimiter=' ')\n",
    "    writer.writerow(['id', 'name', 'age'])\n",
    "    writer.writerow(['10001', 'Mike', '20'])\n",
    "    writer.writerow(['10002', 'Bob', '21'])\n",
    "    writer.writerow(['10003', 'Jordan', '22'])"
   ]
  },
  {
   "cell_type": "markdown",
   "metadata": {},
   "source": [
    "这里在初始化写入对象时传入delimiter为空格，此时输出结果的每一列就是以空格分隔，内容如下：\n",
    "    id name age  \n",
    "    10001 Mike 20  \n",
    "    10002 Bob 21  \n",
    "    10003 Jordan 22  "
   ]
  },
  {
   "cell_type": "code",
   "execution_count": 6,
   "metadata": {},
   "outputs": [],
   "source": [
    "#我们也可以调用writerows()方法同时写入多行，此时参数就需要为二维列表，例如：\n",
    "import csv\n",
    "\n",
    "with open('data3.csv', 'w') as cf:\n",
    "    writer = csv.writer(cf)\n",
    "    writer.writerow(['id', 'name', 'age'])\n",
    "    writer.writerows([['10001', 'Mike', 20], ['10002', 'Bob', 22], ['10003', 'Jordan', 21]])"
   ]
  },
  {
   "cell_type": "markdown",
   "metadata": {},
   "source": [
    "效果与之前相同  \n",
    "\n",
    "\n",
    "但是一般情况下，爬虫爬取的都是结构化数据，我们一般用字典来表示。在csv库中也提供了字典的写入方式"
   ]
  },
  {
   "cell_type": "code",
   "execution_count": 15,
   "metadata": {},
   "outputs": [],
   "source": [
    "import csv\n",
    "\n",
    "with open('data4.csv', 'w') as cf:\n",
    "    fieldnames = ['id', 'name', 'age']\n",
    "    writer = csv.DictWriter(cf, fieldnames=fieldnames)\n",
    "    writer.writeheader()\n",
    "    writer.writerow({'id': '10001', 'name': 'Mike', 'age': '20'})\n",
    "    writer.writerow({'id': '10002', 'name': 'John', 'age': '22'})\n",
    "    writer.writerow({'id': '10003', 'name': 'Jack', 'age': '25'})"
   ]
  },
  {
   "cell_type": "markdown",
   "metadata": {},
   "source": [
    "这里先定义3个字段，用fieldnames表示，然后将其传给DictWriter来初始化一个字典写入对象，接着可以调用writeheader()方法写入头信息，然后再调用wrteirow()方法传入相应的字典即可"
   ]
  },
  {
   "cell_type": "code",
   "execution_count": 17,
   "metadata": {},
   "outputs": [],
   "source": [
    "#另外，如果想追加写入的话，可以修改文件的打开模式，即将open()函数的第二个参数改成a\n",
    "import csv\n",
    "with open('data4.csv', 'a') as cf:\n",
    "    writer = csv.DictWriter(cf, fieldnames=fieldnames)\n",
    "    writer.writerow({'id': '10004', 'name': 'Durant', 'age': '22'})"
   ]
  },
  {
   "cell_type": "markdown",
   "metadata": {},
   "source": [
    "如果要写入中文内容的话，可能会遇到字符编码的问题，此时需要给open()参数指定编码格式。"
   ]
  },
  {
   "cell_type": "code",
   "execution_count": 18,
   "metadata": {},
   "outputs": [],
   "source": [
    "#这里再写入一行包含中文的数据\n",
    "import csv\n",
    "\n",
    "with open('data4.csv', 'a', encoding='utf-8') as cf:\n",
    "    fieldnames = ['id', 'name', 'age']\n",
    "    writer = csv.DictWriter(cf, fieldnames=fieldnames)\n",
    "    writer.writerow({'id': '10005', 'name': '王伟', 'age': 22})"
   ]
  },
  {
   "cell_type": "markdown",
   "metadata": {},
   "source": [
    "## 二、读取\n",
    "        我们同样可以应csv库来读取CSV文件"
   ]
  },
  {
   "cell_type": "code",
   "execution_count": 19,
   "metadata": {},
   "outputs": [
    {
     "name": "stdout",
     "output_type": "stream",
     "text": [
      "['id', 'name', 'age']\n",
      "['10001', 'Mike', '20']\n",
      "['10002', 'John', '22']\n",
      "['10003', 'Jack', '25']\n",
      "['10004', 'Durant', '22']\n",
      "['10005', '王伟', '22']\n"
     ]
    }
   ],
   "source": [
    "import csv\n",
    "\n",
    "with open('data4.csv', 'r', encoding='utf-8') as cf:\n",
    "    reader = csv.reader(cf)\n",
    "    for row in reader:\n",
    "        print(row)"
   ]
  },
  {
   "cell_type": "markdown",
   "metadata": {},
   "source": [
    "这里我们构造的是Reader对象，通过遍历输出了每行的内容，每一行都是一个列表形式。注意，如果CSV文件包括中文的话，还需要指定文件编码。"
   ]
  },
  {
   "cell_type": "code",
   "execution_count": 21,
   "metadata": {},
   "outputs": [
    {
     "name": "stdout",
     "output_type": "stream",
     "text": [
      "      id    name  age\n",
      "0  10001    Mike   20\n",
      "1  10002    John   22\n",
      "2  10003    Jack   25\n",
      "3  10004  Durant   22\n",
      "4  10005      王伟   22\n"
     ]
    }
   ],
   "source": [
    "#如果你接触过pandas的话，可以利用read_csv()方式将数据从csv中读取出来\n",
    "import pandas as pd\n",
    "df = pd.read_csv('data4.csv')\n",
    "print(df)"
   ]
  },
  {
   "cell_type": "markdown",
   "metadata": {},
   "source": [
    "在数据分析的时候，此种方法用得比较多，也是一种比较方便地读取CSV文件的方法  \n",
    "\n",
    "本节中，我们了解了CSV文件的写入和读取方式。这也是一种常用的数据存储方式，需要熟练掌握"
   ]
  }
 ],
 "metadata": {
  "kernelspec": {
   "display_name": "Python 3",
   "language": "python",
   "name": "python3"
  },
  "language_info": {
   "codemirror_mode": {
    "name": "ipython",
    "version": 3
   },
   "file_extension": ".py",
   "mimetype": "text/x-python",
   "name": "python",
   "nbconvert_exporter": "python",
   "pygments_lexer": "ipython3",
   "version": "3.8.5"
  },
  "varInspector": {
   "cols": {
    "lenName": 16,
    "lenType": 16,
    "lenVar": 40
   },
   "kernels_config": {
    "python": {
     "delete_cmd_postfix": "",
     "delete_cmd_prefix": "del ",
     "library": "var_list.py",
     "varRefreshCmd": "print(var_dic_list())"
    },
    "r": {
     "delete_cmd_postfix": ") ",
     "delete_cmd_prefix": "rm(",
     "library": "var_list.r",
     "varRefreshCmd": "cat(var_dic_list()) "
    }
   },
   "types_to_exclude": [
    "module",
    "function",
    "builtin_function_or_method",
    "instance",
    "_Feature"
   ],
   "window_display": false
  }
 },
 "nbformat": 4,
 "nbformat_minor": 4
}
