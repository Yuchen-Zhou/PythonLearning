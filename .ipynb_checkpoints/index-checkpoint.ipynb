{
 "cells": [
  {
   "cell_type": "markdown",
   "metadata": {},
   "source": [
    "# Python学习路线\n",
    "\n",
    "### 1.Python基础\n",
    "\n",
    "- 开发环境: Python、IDLE、 Pycharm、 Conda(Anaconda | Miniconda)  \n",
    "ps:既然你己经打开了这个Jupyter文件，那么你一定已经会装Python环境了\n",
    "- 基础语法: 分支语句、循环语句、关键字\n",
    "- 基础数据类型:\n",
    "    - 数字(Number)\n",
    "    - 字符串(String)\n",
    "    - [列表(List)](./Python_Basics/Python_List.ipynb)\n",
    "    - [元组(Tuple)](./Python_Basics/Python_Tuple.ipynb)\n",
    "    - [字典(Dictionary)](./Python_Basics/Python_Dict.ipynb)\n",
    "- 基本库的使用:\n",
    "    - [OS](https://www.runoob.com/python3/python3-os-file-methods.html)\n",
    "    - turtle\n",
    "    - Pyinstaller\n",
    "    - [jieba、wordcloud](./Python_Basics/Python_WordCloud.ipynb)\n",
    "- 推荐学习地点:\n",
    "    - [菜鸟教程](https://www.runoob.com/python3/python3-tutorial.html)\n",
    "    - [中国大学MOOC](https://www.icourse163.org/course/BIT-268001)\n",
    "- 教程演示:[Python_Basics](./Python_Basics/Python_Basics.ipynb)\n",
    "- 其他重要库:\n",
    "    - [Numpy](./Python_Basics/NumPy_Quickstart.ipynb)\n",
    "    - [Matplotlib](./Python_Basics/Python_Matplotlib.ipynb)\n",
    "    - [Pandas](./Python_Basics/Python_Pandas.ipynb)\n",
    "    - [正则表达式(Re)](./Python_Basics/Python_Matplotlib.ipynb)\n",
    "\n",
    "\n",
    "### 2.网络爬虫\n",
    "- [网络爬虫基础](https://blog.csdn.net/Jughead_Chen/article/details/115596715?spm=1001.2014.3001.5501)\n",
    "- 请求库的使用:\n",
    "    - [Urllib库的使用](./Reptile/Usage_urllib.ipynb)\n",
    "    - [Requests库的使用](./Reptile/Usage_requests.ipynb)\n",
    "- 解析库的使用:\n",
    "    - [BeautifulSoup库的使用](./Reptile/Usage_BeautifulSoup.ipynb)\n",
    "    - [XPath库的使用](./Reptile/Usage_XPath.ipynb)\n",
    "    - [PyQuery库的使用](./Reptile/Usage_pyquery.ipynb)\n",
    "- 数据存储:\n",
    "    - [TXT文件的存储](./Reptile/Save_TXT.ipynb) \n",
    "    - [CSV文件的存储](./Reptile/Save_CSV.ipynb)\n",
    "    - [JSON文件的存储](./Reptile/Save_JSON.ipynb)\n",
    "- Selenium:\n",
    "    - Chromedriver的安装: \n",
    "        - [Windows版本安装教程](https://www.jianshu.com/p/28c0d1ed62f8)\n",
    "        - [MacOS版本安装教程](https://cloud.tencent.com/developer/article/1624100)\n",
    "    - [Selenium的使用](./Reptile/Usage_Selenium.ipynb)\n",
    "\n",
    "### 3.网站开发\n",
    "\n",
    "### 4.数据可视化\n",
    "\n",
    "### 5.机器学习应用\n",
    "- 机器学习是一门多领域交叉学科，涉及概率论、统计学、逼近论、凸分析、算法复杂度理论等多门学科。专门研究计算机怎样模拟或实现人类的学习行为，以获取新的知识或技能，重新组织已有的知识结构使之不断改善自身的性能。(摘自百度百科)\n",
    "- sklearn(scikit-learn)是基于Python语言的机器学习工具\n",
    "    - 简单高效的数据挖掘和数据分析工具\n",
    "    - 可供大家在各种环境中重复使用\n",
    "    - 建立在 NumPy ，SciPy 和 matplotlib 上\n",
    "    - 开源，可商业使用 - BSD许可证"
   ]
  }
 ],
 "metadata": {
  "kernelspec": {
   "display_name": "Python 3",
   "language": "python",
   "name": "python3"
  },
  "language_info": {
   "codemirror_mode": {
    "name": "ipython",
    "version": 3
   },
   "file_extension": ".py",
   "mimetype": "text/x-python",
   "name": "python",
   "nbconvert_exporter": "python",
   "pygments_lexer": "ipython3",
   "version": "3.8.5"
  },
  "latex_envs": {
   "LaTeX_envs_menu_present": true,
   "autoclose": false,
   "autocomplete": true,
   "bibliofile": "biblio.bib",
   "cite_by": "apalike",
   "current_citInitial": 1,
   "eqLabelWithNumbers": true,
   "eqNumInitial": 1,
   "hotkeys": {
    "equation": "Ctrl-E",
    "itemize": "Ctrl-I"
   },
   "labels_anchors": false,
   "latex_user_defs": false,
   "report_style_numbering": false,
   "user_envs_cfg": false
  },
  "varInspector": {
   "cols": {
    "lenName": 16,
    "lenType": 16,
    "lenVar": 40
   },
   "kernels_config": {
    "python": {
     "delete_cmd_postfix": "",
     "delete_cmd_prefix": "del ",
     "library": "var_list.py",
     "varRefreshCmd": "print(var_dic_list())"
    },
    "r": {
     "delete_cmd_postfix": ") ",
     "delete_cmd_prefix": "rm(",
     "library": "var_list.r",
     "varRefreshCmd": "cat(var_dic_list()) "
    }
   },
   "types_to_exclude": [
    "module",
    "function",
    "builtin_function_or_method",
    "instance",
    "_Feature"
   ],
   "window_display": false
  }
 },
 "nbformat": 4,
 "nbformat_minor": 4
}
