{
 "cells": [
  {
   "cell_type": "markdown",
   "metadata": {},
   "source": [
    "# Python学习路线\n",
    "\n",
    "### 1.Python基础\n",
    "\n",
    "- 开发环境: Python、IDLE、 Pycharm、 Conda(Anaconda | Miniconda)                                       ps:既然你己经打开了这个Jupyter文件，那么你一定已经会装Python环境了\n",
    "- 基础语法: 分支语句、循环语句、关键字\n",
    "- 基础数据类型:数字(Number)、字符串(String)、[列表(List)](./Python_Basics/Python_List.ipynb)、元组(Tuple)、[字典(Dictionary)](./Python_Basics/Python_Dict.ipynb)\n",
    "- 基本库的使用:OS、turtle、Pyinstaller、[jieba、wordcloud](./Python_Basics/Python_WordCloud.ipynb)\n",
    "- 推荐学习地点:[菜鸟教程](https://www.runoob.com/python3/python3-tutorial.html)、[中国大学MOOC](https://www.icourse163.org/course/BIT-268001)\n",
    "- 教程演示:[Python_Basics](./Python_Basics/Python_Basics.ipynb)\n",
    "- 其他重要库:[Numpy](./Python_Basics/NumPy_Quickstart.ipynb),[Matplotlib](./Python_Basics/Python_Matplotlib.ipynb),[Pandas](./Python_Basics/Python_Pandas.ipynb),[正则表达式(Re)](./Python_Basics/Python_Matplotlib.ipynb)\n",
    "\n",
    "\n",
    "### 2.网络爬虫\n",
    "\n",
    "### 3.网站开发\n",
    "\n",
    "### 4.数据可视化\n",
    "\n",
    "### 5.机器学习应用\n",
    "\n"
   ]
  }
 ],
 "metadata": {
  "kernelspec": {
   "display_name": "Python 3",
   "language": "python",
   "name": "python3"
  },
  "language_info": {
   "codemirror_mode": {
    "name": "ipython",
    "version": 3
   },
   "file_extension": ".py",
   "mimetype": "text/x-python",
   "name": "python",
   "nbconvert_exporter": "python",
   "pygments_lexer": "ipython3",
   "version": "3.8.5"
  },
  "varInspector": {
   "cols": {
    "lenName": 16,
    "lenType": 16,
    "lenVar": 40
   },
   "kernels_config": {
    "python": {
     "delete_cmd_postfix": "",
     "delete_cmd_prefix": "del ",
     "library": "var_list.py",
     "varRefreshCmd": "print(var_dic_list())"
    },
    "r": {
     "delete_cmd_postfix": ") ",
     "delete_cmd_prefix": "rm(",
     "library": "var_list.r",
     "varRefreshCmd": "cat(var_dic_list()) "
    }
   },
   "types_to_exclude": [
    "module",
    "function",
    "builtin_function_or_method",
    "instance",
    "_Feature"
   ],
   "window_display": false
  }
 },
 "nbformat": 4,
 "nbformat_minor": 4
}
